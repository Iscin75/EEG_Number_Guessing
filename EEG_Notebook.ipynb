{
 "cells": [
  {
   "cell_type": "code",
   "execution_count": 42,
   "metadata": {},
   "outputs": [],
   "source": [
    "import os\n",
    "import csv\n",
    "import pandas as pd\n",
    "import numpy as np\n",
    "import matplotlib.pyplot as plt\n",
    "from sklearn.model_selection import train_test_split\n",
    "import mne\n",
    "from mne import pick_channels, concatenate_epochs\n",
    "from mne import pick_types, viz, io, Epochs, create_info\n",
    "from mne import channels, find_events, concatenate_raws\n",
    "\n",
    "import tensorflow as tf\n",
    "from tensorflow import keras\n",
    "from tensorflow.keras import layers\n",
    "from tensorflow.keras.models import Sequential, load_model\n",
    "\n",
    "import matplotlib.pyplot as plt\n",
    "plt.rcParams[\"figure.figsize\"] = (12,12)\n"
   ]
  },
  {
   "cell_type": "code",
   "execution_count": 43,
   "metadata": {},
   "outputs": [],
   "source": [
    "DATA_PATH = 'data/'"
   ]
  },
  {
   "cell_type": "code",
   "execution_count": 44,
   "metadata": {},
   "outputs": [],
   "source": [
    "def get_all_ids():\n",
    "    \n",
    "    \n",
    "    ids = []\n",
    "    \n",
    "    for folder in os.listdir('./data/'):\n",
    "         if \"Experiment\" in folder:\n",
    "             ids.append(folder.split('_')[1])\n",
    "    return ids"
   ]
  },
  {
   "cell_type": "code",
   "execution_count": null,
   "metadata": {},
   "outputs": [],
   "source": []
  },
  {
   "cell_type": "code",
   "execution_count": 45,
   "metadata": {},
   "outputs": [],
   "source": [
    "def get_all_thought_numbers():\n",
    "    \n",
    "    numbers = []\n",
    "    \n",
    "    for folder in os.listdir('./data/'):\n",
    "         if \"Experiment\" in folder:\n",
    "             for file in os.listdir('./data/' + folder + '/'):\n",
    "                 if file.endswith('.txt'):\n",
    "                     f = open('./data/' + folder + '/' + file, \"r\")\n",
    "                     for line in f:\n",
    "                      if(\"thought\" in line):\n",
    "                          numbers.append((line.split(' ')[-1]).rstrip(\"\\n\\r\"))\n",
    "    return numbers"
   ]
  },
  {
   "cell_type": "code",
   "execution_count": 46,
   "metadata": {},
   "outputs": [],
   "source": [
    "def get_eids_from_directory():\n",
    "\n",
    "    all_ids = []\n",
    "    for _, dirnames, files in os.walk(DATA_PATH):\n",
    "        if dirnames == []:\n",
    "            all_ids.append(int(_.split('_')[1]))\n",
    "    return all_ids\n"
   ]
  },
  {
   "cell_type": "code",
   "execution_count": 47,
   "metadata": {},
   "outputs": [],
   "source": [
    "def get_eeg_path(eeg_id):\n",
    " \n",
    "    eeg_folder = \"Experiment_\" + str(eeg_id) + \"_P3_Numbers/\"\n",
    "    \n",
    "    for file in os.listdir(DATA_PATH + eeg_folder):\n",
    "        if file.endswith(\".vhdr\"):\n",
    "            return os.path.join(DATA_PATH + eeg_folder, file)"
   ]
  },
  {
   "cell_type": "code",
   "execution_count": 48,
   "metadata": {},
   "outputs": [],
   "source": [
    "def load_eeg(filename, plot_sensors=True, plot_raw=True,\n",
    "  plot_raw_psd=True ):\n",
    " \n",
    "  raw = mne.io.read_raw_brainvision(filename, preload=True)\n",
    "\n",
    "  sfreq = raw.info['sfreq']\n",
    "\n",
    "  if plot_sensors:\n",
    "    raw.plot_sensors(show_names='True')\n",
    "\n",
    "\n",
    "  if plot_raw:\n",
    "    raw.plot(n_channels=16, block=True)\n",
    "\n",
    "\n",
    "  if plot_raw_psd:\n",
    "    raw.plot_psd(fmin=.1, fmax=100 )\n",
    "\n",
    "  return raw, sfreq"
   ]
  },
  {
   "cell_type": "code",
   "execution_count": 49,
   "metadata": {},
   "outputs": [],
   "source": [
    "def load_eeg_data(eeg):\n",
    "  \n",
    "  X_arr = []\n",
    "  y_arr = []\n",
    "    \n",
    "  for index, row in eegs.iterrows():\n",
    "      raw, freq = load_eeg(get_eeg_path(row['id_experiment']),plot_sensors=False,plot_raw=False,\n",
    "              plot_raw_psd=False)\n",
    "      X_arr.append(raw)\n",
    "      y_arr.append(row['number_thought'])\n",
    "        \n",
    "  return X_arr, y_arr"
   ]
  },
  {
   "cell_type": "code",
   "execution_count": 50,
   "metadata": {},
   "outputs": [
    {
     "name": "stdout",
     "output_type": "stream",
     "text": [
      "Extracting parameters from data/Experiment_344_P3_Numbers/P3Numbers_20150618_f_11_001.vhdr...\n",
      "No info on DataPoints found. Inferring number of samples from the data file size.\n",
      "Setting channel info structure...\n",
      "Reading 0 ... 273266  =      0.000 ...   273.266 secs...\n",
      "Extracting parameters from data/Experiment_345_P3_Numbers/P3Numbers_20150618_f_11_002.vhdr...\n",
      "No info on DataPoints found. Inferring number of samples from the data file size.\n",
      "Setting channel info structure...\n",
      "Reading 0 ... 490075  =      0.000 ...   490.075 secs...\n",
      "Extracting parameters from data/Experiment_346_P3_Numbers/P3Numbers_20150618_f_11_003.vhdr...\n",
      "No info on DataPoints found. Inferring number of samples from the data file size.\n",
      "Setting channel info structure...\n"
     ]
    },
    {
     "name": "stderr",
     "output_type": "stream",
     "text": [
      "<ipython-input-48-5ecc5c9291e8>:4: RuntimeWarning: Online software filter detected. Using software filter settings and ignoring hardware values\n",
      "  raw = mne.io.read_raw_brainvision(filename, preload=True)\n",
      "<ipython-input-48-5ecc5c9291e8>:4: RuntimeWarning: Online software filter detected. Using software filter settings and ignoring hardware values\n",
      "  raw = mne.io.read_raw_brainvision(filename, preload=True)\n",
      "<ipython-input-48-5ecc5c9291e8>:4: RuntimeWarning: Online software filter detected. Using software filter settings and ignoring hardware values\n",
      "  raw = mne.io.read_raw_brainvision(filename, preload=True)\n"
     ]
    },
    {
     "name": "stdout",
     "output_type": "stream",
     "text": [
      "Reading 0 ... 261393  =      0.000 ...   261.393 secs...\n",
      "Extracting parameters from data/Experiment_347_P3_Numbers/P3Numbers_20150618_f_11_004.vhdr...\n",
      "No info on DataPoints found. Inferring number of samples from the data file size.\n",
      "Setting channel info structure...\n",
      "Reading 0 ... 161822  =      0.000 ...   161.822 secs...\n",
      "Extracting parameters from data/Experiment_348_P3_Numbers/P3Numbers_20150618_f_11_005.vhdr...\n",
      "No info on DataPoints found. Inferring number of samples from the data file size.\n",
      "Setting channel info structure...\n",
      "Reading 0 ... 302308  =      0.000 ...   302.308 secs...\n",
      "Extracting parameters from data/Experiment_349_P3_Numbers/P3Numbers_20150618_f_12_001.vhdr...\n",
      "No info on DataPoints found. Inferring number of samples from the data file size.\n",
      "Setting channel info structure...\n",
      "Reading 0 ... 252936  =      0.000 ...   252.936 secs...\n",
      "Extracting parameters from data/Experiment_350_P3_Numbers/P3Numbers_20150618_m_11_001.vhdr...\n"
     ]
    },
    {
     "name": "stderr",
     "output_type": "stream",
     "text": [
      "<ipython-input-48-5ecc5c9291e8>:4: RuntimeWarning: Online software filter detected. Using software filter settings and ignoring hardware values\n",
      "  raw = mne.io.read_raw_brainvision(filename, preload=True)\n",
      "<ipython-input-48-5ecc5c9291e8>:4: RuntimeWarning: Online software filter detected. Using software filter settings and ignoring hardware values\n",
      "  raw = mne.io.read_raw_brainvision(filename, preload=True)\n",
      "<ipython-input-48-5ecc5c9291e8>:4: RuntimeWarning: Online software filter detected. Using software filter settings and ignoring hardware values\n",
      "  raw = mne.io.read_raw_brainvision(filename, preload=True)\n"
     ]
    },
    {
     "name": "stdout",
     "output_type": "stream",
     "text": [
      "No info on DataPoints found. Inferring number of samples from the data file size.\n",
      "Setting channel info structure...\n",
      "Reading 0 ... 337076  =      0.000 ...   337.076 secs...\n",
      "Extracting parameters from data/Experiment_351_P3_Numbers/P3Numbers_20150618_m_12_001.vhdr...\n",
      "No info on DataPoints found. Inferring number of samples from the data file size.\n",
      "Setting channel info structure...\n",
      "Reading 0 ... 372855  =      0.000 ...   372.855 secs...\n",
      "Extracting parameters from data/Experiment_352_P3_Numbers/P3Numbers_20150618_m_12_002.vhdr...\n",
      "No info on DataPoints found. Inferring number of samples from the data file size.\n"
     ]
    },
    {
     "name": "stderr",
     "output_type": "stream",
     "text": [
      "<ipython-input-48-5ecc5c9291e8>:4: RuntimeWarning: Online software filter detected. Using software filter settings and ignoring hardware values\n",
      "  raw = mne.io.read_raw_brainvision(filename, preload=True)\n",
      "<ipython-input-48-5ecc5c9291e8>:4: RuntimeWarning: Online software filter detected. Using software filter settings and ignoring hardware values\n",
      "  raw = mne.io.read_raw_brainvision(filename, preload=True)\n",
      "<ipython-input-48-5ecc5c9291e8>:4: RuntimeWarning: Online software filter detected. Using software filter settings and ignoring hardware values\n",
      "  raw = mne.io.read_raw_brainvision(filename, preload=True)\n"
     ]
    },
    {
     "name": "stdout",
     "output_type": "stream",
     "text": [
      "Setting channel info structure...\n",
      "Reading 0 ... 140303  =      0.000 ...   140.303 secs...\n",
      "Extracting parameters from data/Experiment_353_P3_Numbers/P3Numbers_20150414_f_12_001.vhdr...\n",
      "No info on DataPoints found. Inferring number of samples from the data file size.\n",
      "Setting channel info structure...\n",
      "Reading 0 ... 279534  =      0.000 ...   279.534 secs...\n",
      "Extracting parameters from data/Experiment_354_P3_Numbers/P3Numbers_20150414_f_13_001.vhdr...\n",
      "No info on DataPoints found. Inferring number of samples from the data file size.\n",
      "Setting channel info structure...\n",
      "Reading 0 ... 347720  =      0.000 ...   347.720 secs...\n"
     ]
    },
    {
     "name": "stderr",
     "output_type": "stream",
     "text": [
      "<ipython-input-48-5ecc5c9291e8>:4: RuntimeWarning: Online software filter detected. Using software filter settings and ignoring hardware values\n",
      "  raw = mne.io.read_raw_brainvision(filename, preload=True)\n",
      "<ipython-input-48-5ecc5c9291e8>:4: RuntimeWarning: Online software filter detected. Using software filter settings and ignoring hardware values\n",
      "  raw = mne.io.read_raw_brainvision(filename, preload=True)\n"
     ]
    },
    {
     "name": "stdout",
     "output_type": "stream",
     "text": [
      "Extracting parameters from data/Experiment_355_P3_Numbers/P3Numbers_20150414_f_13_002.vhdr...\n",
      "No info on DataPoints found. Inferring number of samples from the data file size.\n",
      "Setting channel info structure...\n",
      "Reading 0 ... 287220  =      0.000 ...   287.220 secs...\n",
      "Extracting parameters from data/Experiment_356_P3_Numbers/P3Numbers_20150414_f_13_003.vhdr...\n",
      "No info on DataPoints found. Inferring number of samples from the data file size.\n",
      "Setting channel info structure...\n",
      "Reading 0 ... 405980  =      0.000 ...   405.980 secs...\n"
     ]
    },
    {
     "name": "stderr",
     "output_type": "stream",
     "text": [
      "<ipython-input-48-5ecc5c9291e8>:4: RuntimeWarning: Online software filter detected. Using software filter settings and ignoring hardware values\n",
      "  raw = mne.io.read_raw_brainvision(filename, preload=True)\n",
      "<ipython-input-48-5ecc5c9291e8>:4: RuntimeWarning: Online software filter detected. Using software filter settings and ignoring hardware values\n",
      "  raw = mne.io.read_raw_brainvision(filename, preload=True)\n"
     ]
    },
    {
     "name": "stdout",
     "output_type": "stream",
     "text": [
      "Extracting parameters from data/Experiment_357_P3_Numbers/P3Numbers_20150414_m_13_001.vhdr...\n",
      "No info on DataPoints found. Inferring number of samples from the data file size.\n",
      "Setting channel info structure...\n",
      "Reading 0 ... 182513  =      0.000 ...   182.513 secs...\n",
      "Extracting parameters from data/Experiment_358_P3_Numbers/P3Numbers_20150414_m_13_002.vhdr...\n",
      "No info on DataPoints found. Inferring number of samples from the data file size.\n",
      "Setting channel info structure...\n",
      "Reading 0 ... 189678  =      0.000 ...   189.678 secs...\n",
      "Extracting parameters from data/Experiment_359_P3_Numbers/P3Numbers_20150414_m_13_003.vhdr...\n",
      "No info on DataPoints found. Inferring number of samples from the data file size.\n",
      "Setting channel info structure...\n",
      "Reading 0 ... 370220  =      0.000 ...   370.220 secs...\n"
     ]
    },
    {
     "name": "stderr",
     "output_type": "stream",
     "text": [
      "<ipython-input-48-5ecc5c9291e8>:4: RuntimeWarning: Online software filter detected. Using software filter settings and ignoring hardware values\n",
      "  raw = mne.io.read_raw_brainvision(filename, preload=True)\n",
      "<ipython-input-48-5ecc5c9291e8>:4: RuntimeWarning: Online software filter detected. Using software filter settings and ignoring hardware values\n",
      "  raw = mne.io.read_raw_brainvision(filename, preload=True)\n",
      "<ipython-input-48-5ecc5c9291e8>:4: RuntimeWarning: Online software filter detected. Using software filter settings and ignoring hardware values\n",
      "  raw = mne.io.read_raw_brainvision(filename, preload=True)\n"
     ]
    },
    {
     "name": "stdout",
     "output_type": "stream",
     "text": [
      "Extracting parameters from data/Experiment_360_P3_Numbers/P3Numbers_20150618_f_11_006.vhdr...\n",
      "No info on DataPoints found. Inferring number of samples from the data file size.\n",
      "Setting channel info structure...\n",
      "Reading 0 ... 373122  =      0.000 ...   373.122 secs...\n",
      "Extracting parameters from data/Experiment_361_P3_Numbers/P3Numbers_20150618_f_11_007.vhdr...\n",
      "No info on DataPoints found. Inferring number of samples from the data file size.\n",
      "Setting channel info structure...\n",
      "Reading 0 ... 161738  =      0.000 ...   161.738 secs...\n",
      "Extracting parameters from data/Experiment_362_P3_Numbers/P3Numbers_20150618_m_11_002.vhdr...\n",
      "No info on DataPoints found. Inferring number of samples from the data file size.\n",
      "Setting channel info structure...\n",
      "Reading 0 ... 339920  =      0.000 ...   339.920 secs...\n"
     ]
    },
    {
     "name": "stderr",
     "output_type": "stream",
     "text": [
      "<ipython-input-48-5ecc5c9291e8>:4: RuntimeWarning: Online software filter detected. Using software filter settings and ignoring hardware values\n",
      "  raw = mne.io.read_raw_brainvision(filename, preload=True)\n",
      "<ipython-input-48-5ecc5c9291e8>:4: RuntimeWarning: Online software filter detected. Using software filter settings and ignoring hardware values\n",
      "  raw = mne.io.read_raw_brainvision(filename, preload=True)\n",
      "<ipython-input-48-5ecc5c9291e8>:4: RuntimeWarning: Online software filter detected. Using software filter settings and ignoring hardware values\n",
      "  raw = mne.io.read_raw_brainvision(filename, preload=True)\n"
     ]
    },
    {
     "name": "stdout",
     "output_type": "stream",
     "text": [
      "Extracting parameters from data/Experiment_405_P3_Numbers/P3Numbers_20150414_f_11_001.vhdr...\n",
      "No info on DataPoints found. Inferring number of samples from the data file size.\n",
      "Setting channel info structure...\n",
      "Reading 0 ... 446900  =      0.000 ...   446.900 secs...\n",
      "Extracting parameters from data/Experiment_407_P3_Numbers/P3Numbers_20150414_f_11_002.vhdr...\n",
      "No info on DataPoints found. Inferring number of samples from the data file size.\n",
      "Setting channel info structure...\n",
      "Reading 0 ... 206520  =      0.000 ...   206.520 secs...\n",
      "Extracting parameters from data/Experiment_411_P3_Numbers/P3Numbers_20150414_f_13_004.vhdr...\n"
     ]
    },
    {
     "name": "stderr",
     "output_type": "stream",
     "text": [
      "<ipython-input-48-5ecc5c9291e8>:4: RuntimeWarning: Online software filter detected. Using software filter settings and ignoring hardware values\n",
      "  raw = mne.io.read_raw_brainvision(filename, preload=True)\n",
      "<ipython-input-48-5ecc5c9291e8>:4: RuntimeWarning: Online software filter detected. Using software filter settings and ignoring hardware values\n",
      "  raw = mne.io.read_raw_brainvision(filename, preload=True)\n"
     ]
    },
    {
     "name": "stdout",
     "output_type": "stream",
     "text": [
      "No info on DataPoints found. Inferring number of samples from the data file size.\n",
      "Setting channel info structure...\n",
      "Reading 0 ... 237299  =      0.000 ...   237.299 secs...\n",
      "Extracting parameters from data/Experiment_416_P3_Numbers/P3Numbers_20150414_f_14_001.vhdr...\n",
      "No info on DataPoints found. Inferring number of samples from the data file size.\n",
      "Setting channel info structure...\n",
      "Reading 0 ... 391280  =      0.000 ...   391.280 secs...\n",
      "Extracting parameters from data/Experiment_418_P3_Numbers/P3Numbers_20150414_f_14_002.vhdr...\n",
      "No info on DataPoints found. Inferring number of samples from the data file size.\n",
      "Setting channel info structure...\n",
      "Reading 0 ... 254940  =      0.000 ...   254.940 secs...\n"
     ]
    },
    {
     "name": "stderr",
     "output_type": "stream",
     "text": [
      "<ipython-input-48-5ecc5c9291e8>:4: RuntimeWarning: Online software filter detected. Using software filter settings and ignoring hardware values\n",
      "  raw = mne.io.read_raw_brainvision(filename, preload=True)\n",
      "<ipython-input-48-5ecc5c9291e8>:4: RuntimeWarning: Online software filter detected. Using software filter settings and ignoring hardware values\n",
      "  raw = mne.io.read_raw_brainvision(filename, preload=True)\n",
      "<ipython-input-48-5ecc5c9291e8>:4: RuntimeWarning: Online software filter detected. Using software filter settings and ignoring hardware values\n",
      "  raw = mne.io.read_raw_brainvision(filename, preload=True)\n"
     ]
    },
    {
     "name": "stdout",
     "output_type": "stream",
     "text": [
      "Extracting parameters from data/Experiment_420_P3_Numbers/P3Numbers_20150414_f_14_003.vhdr...\n",
      "No info on DataPoints found. Inferring number of samples from the data file size.\n",
      "Setting channel info structure...\n",
      "Reading 0 ... 292600  =      0.000 ...   292.600 secs...\n",
      "Extracting parameters from data/Experiment_422_P3_Numbers/P3Numbers_20150414_f_15_001.vhdr...\n",
      "No info on DataPoints found. Inferring number of samples from the data file size.\n",
      "Setting channel info structure...\n",
      "Reading 0 ... 283976  =      0.000 ...   283.976 secs...\n",
      "Extracting parameters from data/Experiment_425_P3_Numbers/P3Numbers_20150414_m_13_004.vhdr...\n",
      "No info on DataPoints found. Inferring number of samples from the data file size.\n"
     ]
    },
    {
     "name": "stderr",
     "output_type": "stream",
     "text": [
      "<ipython-input-48-5ecc5c9291e8>:4: RuntimeWarning: Online software filter detected. Using software filter settings and ignoring hardware values\n",
      "  raw = mne.io.read_raw_brainvision(filename, preload=True)\n",
      "<ipython-input-48-5ecc5c9291e8>:4: RuntimeWarning: Online software filter detected. Using software filter settings and ignoring hardware values\n",
      "  raw = mne.io.read_raw_brainvision(filename, preload=True)\n",
      "<ipython-input-48-5ecc5c9291e8>:4: RuntimeWarning: Online software filter detected. Using software filter settings and ignoring hardware values\n",
      "  raw = mne.io.read_raw_brainvision(filename, preload=True)\n"
     ]
    },
    {
     "name": "stdout",
     "output_type": "stream",
     "text": [
      "Setting channel info structure...\n",
      "Reading 0 ... 166640  =      0.000 ...   166.640 secs...\n",
      "Extracting parameters from data/Experiment_427_P3_Numbers/P3Numbers_20150414_m_14_001.vhdr...\n",
      "No info on DataPoints found. Inferring number of samples from the data file size.\n",
      "Setting channel info structure...\n",
      "Reading 0 ... 144177  =      0.000 ...   144.177 secs...\n",
      "Extracting parameters from data/Experiment_447_P3_Numbers/P3Numbers_20150414_m_15_001.vhdr...\n",
      "No info on DataPoints found. Inferring number of samples from the data file size.\n",
      "Setting channel info structure...\n",
      "Reading 0 ... 494738  =      0.000 ...   494.738 secs...\n",
      "Extracting parameters from data/Experiment_448_P3_Numbers/P3Numbers_20150414_m_14_003.vhdr...\n",
      "No info on DataPoints found. Inferring number of samples from the data file size.\n",
      "Setting channel info structure...\n",
      "Reading 0 ... 145400  =      0.000 ...   145.400 secs...\n",
      "Extracting parameters from data/Experiment_449_P3_Numbers/P3Numbers_20150414_f_15_004.vhdr...\n",
      "No info on DataPoints found. Inferring number of samples from the data file size.\n",
      "Setting channel info structure...\n",
      "Reading 0 ... 196000  =      0.000 ...   196.000 secs...\n",
      "Extracting parameters from data/Experiment_451_P3_Numbers/P3Numbers_20150414_f_15_003.vhdr...\n"
     ]
    },
    {
     "name": "stderr",
     "output_type": "stream",
     "text": [
      "<ipython-input-48-5ecc5c9291e8>:4: RuntimeWarning: Online software filter detected. Using software filter settings and ignoring hardware values\n",
      "  raw = mne.io.read_raw_brainvision(filename, preload=True)\n",
      "<ipython-input-48-5ecc5c9291e8>:4: RuntimeWarning: Online software filter detected. Using software filter settings and ignoring hardware values\n",
      "  raw = mne.io.read_raw_brainvision(filename, preload=True)\n",
      "<ipython-input-48-5ecc5c9291e8>:4: RuntimeWarning: Online software filter detected. Using software filter settings and ignoring hardware values\n",
      "  raw = mne.io.read_raw_brainvision(filename, preload=True)\n",
      "<ipython-input-48-5ecc5c9291e8>:4: RuntimeWarning: Online software filter detected. Using software filter settings and ignoring hardware values\n",
      "  raw = mne.io.read_raw_brainvision(filename, preload=True)\n"
     ]
    },
    {
     "name": "stdout",
     "output_type": "stream",
     "text": [
      "No info on DataPoints found. Inferring number of samples from the data file size.\n",
      "Setting channel info structure...\n",
      "Reading 0 ... 197560  =      0.000 ...   197.560 secs...\n",
      "Extracting parameters from data/Experiment_453_P3_Numbers/P3Numbers_20150414_f_15_002.vhdr...\n",
      "No info on DataPoints found. Inferring number of samples from the data file size.\n",
      "Setting channel info structure...\n",
      "Reading 0 ... 268080  =      0.000 ...   268.080 secs...\n",
      "Extracting parameters from data/Experiment_456_P3_Numbers/P3Numbers_20150414_f_14_004.vhdr...\n",
      "No info on DataPoints found. Inferring number of samples from the data file size.\n",
      "Setting channel info structure...\n",
      "Reading 0 ... 437840  =      0.000 ...   437.840 secs...\n",
      "Extracting parameters from data/Experiment_459_P3_Numbers/P3Numbers_20141023_m_12_002.vhdr...\n",
      "No info on DataPoints found. Inferring number of samples from the data file size.\n",
      "Setting channel info structure...\n",
      "Reading 0 ... 300055  =      0.000 ...   300.055 secs...\n"
     ]
    },
    {
     "name": "stderr",
     "output_type": "stream",
     "text": [
      "<ipython-input-48-5ecc5c9291e8>:4: RuntimeWarning: Online software filter detected. Using software filter settings and ignoring hardware values\n",
      "  raw = mne.io.read_raw_brainvision(filename, preload=True)\n",
      "<ipython-input-48-5ecc5c9291e8>:4: RuntimeWarning: Online software filter detected. Using software filter settings and ignoring hardware values\n",
      "  raw = mne.io.read_raw_brainvision(filename, preload=True)\n",
      "<ipython-input-48-5ecc5c9291e8>:4: RuntimeWarning: Online software filter detected. Using software filter settings and ignoring hardware values\n",
      "  raw = mne.io.read_raw_brainvision(filename, preload=True)\n",
      "<ipython-input-48-5ecc5c9291e8>:4: RuntimeWarning: Online software filter detected. Using software filter settings and ignoring hardware values\n",
      "  raw = mne.io.read_raw_brainvision(filename, preload=True)\n"
     ]
    },
    {
     "name": "stdout",
     "output_type": "stream",
     "text": [
      "Extracting parameters from data/Experiment_462_P3_Numbers/P3Numbers_20141023_m_12_001.vhdr...\n",
      "No info on DataPoints found. Inferring number of samples from the data file size.\n",
      "Setting channel info structure...\n",
      "Reading 0 ... 177766  =      0.000 ...   177.766 secs...\n",
      "Extracting parameters from data/Experiment_464_P3_Numbers/P3Numbers_20141023_f_14_001.vhdr...\n",
      "No info on DataPoints found. Inferring number of samples from the data file size.\n",
      "Setting channel info structure...\n",
      "Reading 0 ... 97107  =      0.000 ...    97.107 secs...\n",
      "Extracting parameters from data/Experiment_466_P3_Numbers/P3Numbers_20141023_f_11_001.vhdr...\n",
      "No info on DataPoints found. Inferring number of samples from the data file size.\n",
      "Setting channel info structure...\n",
      "Reading 0 ... 301664  =      0.000 ...   301.664 secs...\n",
      "Extracting parameters from data/Experiment_495_P3_Numbers/P3Numbers_20141023_m_15_003.vhdr...\n",
      "No info on DataPoints found. Inferring number of samples from the data file size.\n",
      "Setting channel info structure...\n",
      "Reading 0 ... 164251  =      0.000 ...   164.251 secs...\n",
      "Extracting parameters from data/Experiment_496_P3_Numbers/P3Numbers_20141023_f_11_002.vhdr...\n",
      "No info on DataPoints found. Inferring number of samples from the data file size.\n",
      "Setting channel info structure...\n",
      "Reading 0 ... 141017  =      0.000 ...   141.017 secs...\n",
      "Extracting parameters from data/Experiment_497_P3_Numbers/P3Numbers_20141023_f_12_001.vhdr...\n",
      "No info on DataPoints found. Inferring number of samples from the data file size.\n",
      "Setting channel info structure...\n",
      "Reading 0 ... 277755  =      0.000 ...   277.755 secs...\n"
     ]
    },
    {
     "name": "stderr",
     "output_type": "stream",
     "text": [
      "<ipython-input-48-5ecc5c9291e8>:4: RuntimeWarning: Online software filter detected. Using software filter settings and ignoring hardware values\n",
      "  raw = mne.io.read_raw_brainvision(filename, preload=True)\n",
      "<ipython-input-48-5ecc5c9291e8>:4: RuntimeWarning: Online software filter detected. Using software filter settings and ignoring hardware values\n",
      "  raw = mne.io.read_raw_brainvision(filename, preload=True)\n",
      "<ipython-input-48-5ecc5c9291e8>:4: RuntimeWarning: Online software filter detected. Using software filter settings and ignoring hardware values\n",
      "  raw = mne.io.read_raw_brainvision(filename, preload=True)\n",
      "<ipython-input-48-5ecc5c9291e8>:4: RuntimeWarning: Online software filter detected. Using software filter settings and ignoring hardware values\n",
      "  raw = mne.io.read_raw_brainvision(filename, preload=True)\n",
      "<ipython-input-48-5ecc5c9291e8>:4: RuntimeWarning: Online software filter detected. Using software filter settings and ignoring hardware values\n",
      "  raw = mne.io.read_raw_brainvision(filename, preload=True)\n",
      "<ipython-input-48-5ecc5c9291e8>:4: RuntimeWarning: Online software filter detected. Using software filter settings and ignoring hardware values\n",
      "  raw = mne.io.read_raw_brainvision(filename, preload=True)\n"
     ]
    },
    {
     "name": "stdout",
     "output_type": "stream",
     "text": [
      "Extracting parameters from data/Experiment_498_P3_Numbers/P3Numbers_20141023_f_11_003.vhdr...\n",
      "No info on DataPoints found. Inferring number of samples from the data file size.\n",
      "Setting channel info structure...\n",
      "Reading 0 ... 291863  =      0.000 ...   291.863 secs...\n",
      "Extracting parameters from data/Experiment_499_P3_Numbers/P3Numbers_20141023_f_12_002.vhdr...\n",
      "No info on DataPoints found. Inferring number of samples from the data file size.\n",
      "Setting channel info structure...\n",
      "Reading 0 ... 163721  =      0.000 ...   163.721 secs...\n",
      "Extracting parameters from data/Experiment_500_P3_Numbers/P3Numbers_20141023_f_13_001.vhdr...\n",
      "No info on DataPoints found. Inferring number of samples from the data file size.\n",
      "Setting channel info structure...\n",
      "Reading 0 ... 133556  =      0.000 ...   133.556 secs...\n",
      "Extracting parameters from data/Experiment_501_P3_Numbers/P3Numbers_20141023_f_14_002.vhdr...\n",
      "No info on DataPoints found. Inferring number of samples from the data file size.\n",
      "Setting channel info structure...\n",
      "Reading 0 ... 506755  =      0.000 ...   506.755 secs...\n",
      "Extracting parameters from data/Experiment_502_P3_Numbers/P3Numbers_20141023_f_14_003.vhdr...\n",
      "No info on DataPoints found. Inferring number of samples from the data file size.\n",
      "Setting channel info structure...\n",
      "Reading 0 ... 445362  =      0.000 ...   445.362 secs...\n",
      "Extracting parameters from data/Experiment_503_P3_Numbers/P3Numbers_20141023_f_15_001.vhdr...\n"
     ]
    },
    {
     "name": "stderr",
     "output_type": "stream",
     "text": [
      "<ipython-input-48-5ecc5c9291e8>:4: RuntimeWarning: Online software filter detected. Using software filter settings and ignoring hardware values\n",
      "  raw = mne.io.read_raw_brainvision(filename, preload=True)\n",
      "<ipython-input-48-5ecc5c9291e8>:4: RuntimeWarning: Online software filter detected. Using software filter settings and ignoring hardware values\n",
      "  raw = mne.io.read_raw_brainvision(filename, preload=True)\n",
      "<ipython-input-48-5ecc5c9291e8>:4: RuntimeWarning: Online software filter detected. Using software filter settings and ignoring hardware values\n",
      "  raw = mne.io.read_raw_brainvision(filename, preload=True)\n",
      "<ipython-input-48-5ecc5c9291e8>:4: RuntimeWarning: Online software filter detected. Using software filter settings and ignoring hardware values\n",
      "  raw = mne.io.read_raw_brainvision(filename, preload=True)\n",
      "<ipython-input-48-5ecc5c9291e8>:4: RuntimeWarning: Online software filter detected. Using software filter settings and ignoring hardware values\n",
      "  raw = mne.io.read_raw_brainvision(filename, preload=True)\n"
     ]
    },
    {
     "name": "stdout",
     "output_type": "stream",
     "text": [
      "No info on DataPoints found. Inferring number of samples from the data file size.\n",
      "Setting channel info structure...\n",
      "Reading 0 ... 401679  =      0.000 ...   401.679 secs...\n",
      "Extracting parameters from data/Experiment_504_P3_Numbers/P3Numbers_20141023_m_13_001.vhdr...\n",
      "No info on DataPoints found. Inferring number of samples from the data file size.\n",
      "Setting channel info structure...\n",
      "Reading 0 ... 536309  =      0.000 ...   536.309 secs...\n",
      "Extracting parameters from data/Experiment_505_P3_Numbers/P3Numbers_20141023_m_14_001.vhdr...\n",
      "No info on DataPoints found. Inferring number of samples from the data file size.\n",
      "Setting channel info structure...\n",
      "Reading 0 ... 357852  =      0.000 ...   357.852 secs...\n"
     ]
    },
    {
     "name": "stderr",
     "output_type": "stream",
     "text": [
      "<ipython-input-48-5ecc5c9291e8>:4: RuntimeWarning: Online software filter detected. Using software filter settings and ignoring hardware values\n",
      "  raw = mne.io.read_raw_brainvision(filename, preload=True)\n",
      "<ipython-input-48-5ecc5c9291e8>:4: RuntimeWarning: Online software filter detected. Using software filter settings and ignoring hardware values\n",
      "  raw = mne.io.read_raw_brainvision(filename, preload=True)\n",
      "<ipython-input-48-5ecc5c9291e8>:4: RuntimeWarning: Online software filter detected. Using software filter settings and ignoring hardware values\n",
      "  raw = mne.io.read_raw_brainvision(filename, preload=True)\n"
     ]
    },
    {
     "name": "stdout",
     "output_type": "stream",
     "text": [
      "Extracting parameters from data/Experiment_506_P3_Numbers/P3Numbers_20141023_m_14_002.vhdr...\n",
      "No info on DataPoints found. Inferring number of samples from the data file size.\n",
      "Setting channel info structure...\n",
      "Reading 0 ... 465747  =      0.000 ...   465.747 secs...\n",
      "Extracting parameters from data/Experiment_507_P3_Numbers/P3Numbers_20141023_m_15_001.vhdr...\n",
      "No info on DataPoints found. Inferring number of samples from the data file size.\n",
      "Setting channel info structure...\n",
      "Reading 0 ... 484721  =      0.000 ...   484.721 secs...\n",
      "Extracting parameters from data/Experiment_508_P3_Numbers/P3Numbers_20141023_m_15_002.vhdr...\n",
      "No info on DataPoints found. Inferring number of samples from the data file size.\n",
      "Setting channel info structure...\n",
      "Reading 0 ... 184608  =      0.000 ...   184.608 secs...\n"
     ]
    },
    {
     "name": "stderr",
     "output_type": "stream",
     "text": [
      "<ipython-input-48-5ecc5c9291e8>:4: RuntimeWarning: Online software filter detected. Using software filter settings and ignoring hardware values\n",
      "  raw = mne.io.read_raw_brainvision(filename, preload=True)\n",
      "<ipython-input-48-5ecc5c9291e8>:4: RuntimeWarning: Online software filter detected. Using software filter settings and ignoring hardware values\n",
      "  raw = mne.io.read_raw_brainvision(filename, preload=True)\n",
      "<ipython-input-48-5ecc5c9291e8>:4: RuntimeWarning: Online software filter detected. Using software filter settings and ignoring hardware values\n",
      "  raw = mne.io.read_raw_brainvision(filename, preload=True)\n"
     ]
    },
    {
     "name": "stdout",
     "output_type": "stream",
     "text": [
      "Extracting parameters from data/Experiment_509_P3_Numbers/P3Numbers_20150224_f_09_001.vhdr...\n",
      "No info on DataPoints found. Inferring number of samples from the data file size.\n",
      "Setting channel info structure...\n",
      "Reading 0 ... 457676  =      0.000 ...   457.676 secs...\n",
      "Extracting parameters from data/Experiment_510_P3_Numbers/P3Numbers_20150224_f_10_001.vhdr...\n",
      "No info on DataPoints found. Inferring number of samples from the data file size.\n",
      "Setting channel info structure...\n",
      "Reading 0 ... 428379  =      0.000 ...   428.379 secs...\n"
     ]
    },
    {
     "name": "stderr",
     "output_type": "stream",
     "text": [
      "<ipython-input-48-5ecc5c9291e8>:4: RuntimeWarning: Online software filter detected. Using software filter settings and ignoring hardware values\n",
      "  raw = mne.io.read_raw_brainvision(filename, preload=True)\n",
      "<ipython-input-48-5ecc5c9291e8>:4: RuntimeWarning: Online software filter detected. Using software filter settings and ignoring hardware values\n",
      "  raw = mne.io.read_raw_brainvision(filename, preload=True)\n"
     ]
    },
    {
     "name": "stdout",
     "output_type": "stream",
     "text": [
      "Extracting parameters from data/Experiment_511_P3_Numbers/P3Numbers_20150224_f_11_001.vhdr...\n",
      "No info on DataPoints found. Inferring number of samples from the data file size.\n",
      "Setting channel info structure...\n",
      "Reading 0 ... 479993  =      0.000 ...   479.993 secs...\n",
      "Extracting parameters from data/Experiment_515_P3_Numbers/P3Numbers_20141124_f_12_001.vhdr...\n",
      "No info on DataPoints found. Inferring number of samples from the data file size.\n",
      "Setting channel info structure...\n",
      "Reading 0 ... 251805  =      0.000 ...   251.805 secs...\n",
      "Extracting parameters from data/Experiment_516_P3_Numbers/P3Numbers_20141124_f_12_002.vhdr...\n",
      "No info on DataPoints found. Inferring number of samples from the data file size.\n",
      "Setting channel info structure...\n",
      "Reading 0 ... 308707  =      0.000 ...   308.707 secs...\n"
     ]
    },
    {
     "name": "stderr",
     "output_type": "stream",
     "text": [
      "<ipython-input-48-5ecc5c9291e8>:4: RuntimeWarning: Online software filter detected. Using software filter settings and ignoring hardware values\n",
      "  raw = mne.io.read_raw_brainvision(filename, preload=True)\n",
      "<ipython-input-48-5ecc5c9291e8>:4: RuntimeWarning: Online software filter detected. Using software filter settings and ignoring hardware values\n",
      "  raw = mne.io.read_raw_brainvision(filename, preload=True)\n",
      "<ipython-input-48-5ecc5c9291e8>:4: RuntimeWarning: Online software filter detected. Using software filter settings and ignoring hardware values\n",
      "  raw = mne.io.read_raw_brainvision(filename, preload=True)\n"
     ]
    },
    {
     "name": "stdout",
     "output_type": "stream",
     "text": [
      "Extracting parameters from data/Experiment_517_P3_Numbers/P3Numbers_20141124_f_13_001.vhdr...\n",
      "No info on DataPoints found. Inferring number of samples from the data file size.\n",
      "Setting channel info structure...\n",
      "Reading 0 ... 494412  =      0.000 ...   494.412 secs...\n",
      "Extracting parameters from data/Experiment_518_P3_Numbers/P3Numbers_20141124_f_13_002.vhdr...\n",
      "No info on DataPoints found. Inferring number of samples from the data file size.\n",
      "Setting channel info structure...\n",
      "Reading 0 ... 196398  =      0.000 ...   196.398 secs...\n",
      "Extracting parameters from data/Experiment_519_P3_Numbers/P3Numbers_20141124_f_14_001.vhdr...\n",
      "No info on DataPoints found. Inferring number of samples from the data file size.\n",
      "Setting channel info structure...\n",
      "Reading 0 ... 375090  =      0.000 ...   375.090 secs...\n"
     ]
    },
    {
     "name": "stderr",
     "output_type": "stream",
     "text": [
      "<ipython-input-48-5ecc5c9291e8>:4: RuntimeWarning: Online software filter detected. Using software filter settings and ignoring hardware values\n",
      "  raw = mne.io.read_raw_brainvision(filename, preload=True)\n",
      "<ipython-input-48-5ecc5c9291e8>:4: RuntimeWarning: Online software filter detected. Using software filter settings and ignoring hardware values\n",
      "  raw = mne.io.read_raw_brainvision(filename, preload=True)\n",
      "<ipython-input-48-5ecc5c9291e8>:4: RuntimeWarning: Online software filter detected. Using software filter settings and ignoring hardware values\n",
      "  raw = mne.io.read_raw_brainvision(filename, preload=True)\n"
     ]
    },
    {
     "name": "stdout",
     "output_type": "stream",
     "text": [
      "Extracting parameters from data/Experiment_520_P3_Numbers/P3Numbers_20141124_f_14_002.vhdr...\n",
      "No info on DataPoints found. Inferring number of samples from the data file size.\n",
      "Setting channel info structure...\n",
      "Reading 0 ... 214443  =      0.000 ...   214.443 secs...\n",
      "Extracting parameters from data/Experiment_521_P3_Numbers/P3Numbers_20141124_f_14_003.vhdr...\n",
      "No info on DataPoints found. Inferring number of samples from the data file size.\n",
      "Setting channel info structure...\n",
      "Reading 0 ... 127890  =      0.000 ...   127.890 secs...\n",
      "Extracting parameters from data/Experiment_522_P3_Numbers/P3Numbers_20141124_f_14_004.vhdr...\n",
      "No info on DataPoints found. Inferring number of samples from the data file size.\n",
      "Setting channel info structure...\n",
      "Reading 0 ... 245785  =      0.000 ...   245.785 secs...\n",
      "Extracting parameters from data/Experiment_523_P3_Numbers/P3Numbers_20141124_f_15_001.vhdr...\n",
      "No info on DataPoints found. Inferring number of samples from the data file size.\n",
      "Setting channel info structure...\n",
      "Reading 0 ... 407574  =      0.000 ...   407.574 secs...\n"
     ]
    },
    {
     "name": "stderr",
     "output_type": "stream",
     "text": [
      "<ipython-input-48-5ecc5c9291e8>:4: RuntimeWarning: Online software filter detected. Using software filter settings and ignoring hardware values\n",
      "  raw = mne.io.read_raw_brainvision(filename, preload=True)\n",
      "<ipython-input-48-5ecc5c9291e8>:4: RuntimeWarning: Online software filter detected. Using software filter settings and ignoring hardware values\n",
      "  raw = mne.io.read_raw_brainvision(filename, preload=True)\n",
      "<ipython-input-48-5ecc5c9291e8>:4: RuntimeWarning: Online software filter detected. Using software filter settings and ignoring hardware values\n",
      "  raw = mne.io.read_raw_brainvision(filename, preload=True)\n",
      "<ipython-input-48-5ecc5c9291e8>:4: RuntimeWarning: Online software filter detected. Using software filter settings and ignoring hardware values\n",
      "  raw = mne.io.read_raw_brainvision(filename, preload=True)\n"
     ]
    },
    {
     "name": "stdout",
     "output_type": "stream",
     "text": [
      "Extracting parameters from data/Experiment_524_P3_Numbers/P3Numbers_20141124_f_17_001.vhdr...\n",
      "No info on DataPoints found. Inferring number of samples from the data file size.\n",
      "Setting channel info structure...\n",
      "Reading 0 ... 168704  =      0.000 ...   168.704 secs...\n",
      "Extracting parameters from data/Experiment_525_P3_Numbers/P3Numbers_20141124_f_17_002.vhdr...\n",
      "No info on DataPoints found. Inferring number of samples from the data file size.\n",
      "Setting channel info structure...\n",
      "Reading 0 ... 552146  =      0.000 ...   552.146 secs...\n",
      "Extracting parameters from data/Experiment_526_P3_Numbers/P3Numbers_20141124_m_12_001.vhdr...\n",
      "No info on DataPoints found. Inferring number of samples from the data file size.\n",
      "Setting channel info structure...\n",
      "Reading 0 ... 190482  =      0.000 ...   190.482 secs...\n",
      "Extracting parameters from data/Experiment_527_P3_Numbers/P3Numbers_20141124_m_12_002.vhdr...\n",
      "No info on DataPoints found. Inferring number of samples from the data file size.\n",
      "Setting channel info structure...\n"
     ]
    },
    {
     "name": "stderr",
     "output_type": "stream",
     "text": [
      "<ipython-input-48-5ecc5c9291e8>:4: RuntimeWarning: Online software filter detected. Using software filter settings and ignoring hardware values\n",
      "  raw = mne.io.read_raw_brainvision(filename, preload=True)\n",
      "<ipython-input-48-5ecc5c9291e8>:4: RuntimeWarning: Online software filter detected. Using software filter settings and ignoring hardware values\n",
      "  raw = mne.io.read_raw_brainvision(filename, preload=True)\n",
      "<ipython-input-48-5ecc5c9291e8>:4: RuntimeWarning: Online software filter detected. Using software filter settings and ignoring hardware values\n",
      "  raw = mne.io.read_raw_brainvision(filename, preload=True)\n",
      "<ipython-input-48-5ecc5c9291e8>:4: RuntimeWarning: Online software filter detected. Using software filter settings and ignoring hardware values\n",
      "  raw = mne.io.read_raw_brainvision(filename, preload=True)\n"
     ]
    },
    {
     "name": "stdout",
     "output_type": "stream",
     "text": [
      "Reading 0 ... 274536  =      0.000 ...   274.536 secs...\n",
      "Extracting parameters from data/Experiment_528_P3_Numbers/P3Numbers_20141124_m_13_001.vhdr...\n",
      "No info on DataPoints found. Inferring number of samples from the data file size.\n",
      "Setting channel info structure...\n",
      "Reading 0 ... 402795  =      0.000 ...   402.795 secs...\n",
      "Extracting parameters from data/Experiment_529_P3_Numbers/P3Numbers_20141124_m_14_001.vhdr...\n",
      "No info on DataPoints found. Inferring number of samples from the data file size.\n",
      "Setting channel info structure...\n",
      "Reading 0 ... 285623  =      0.000 ...   285.623 secs...\n",
      "Extracting parameters from data/Experiment_530_P3_Numbers/P3Numbers_20141124_m_14_002.vhdr...\n",
      "No info on DataPoints found. Inferring number of samples from the data file size.\n",
      "Setting channel info structure...\n",
      "Reading 0 ... 243030  =      0.000 ...   243.030 secs...\n",
      "Extracting parameters from data/Experiment_531_P3_Numbers/P3Numbers_20141124_m_14_002.vhdr...\n",
      "No info on DataPoints found. Inferring number of samples from the data file size.\n",
      "Setting channel info structure...\n"
     ]
    },
    {
     "name": "stderr",
     "output_type": "stream",
     "text": [
      "<ipython-input-48-5ecc5c9291e8>:4: RuntimeWarning: Online software filter detected. Using software filter settings and ignoring hardware values\n",
      "  raw = mne.io.read_raw_brainvision(filename, preload=True)\n",
      "<ipython-input-48-5ecc5c9291e8>:4: RuntimeWarning: Online software filter detected. Using software filter settings and ignoring hardware values\n",
      "  raw = mne.io.read_raw_brainvision(filename, preload=True)\n",
      "<ipython-input-48-5ecc5c9291e8>:4: RuntimeWarning: Online software filter detected. Using software filter settings and ignoring hardware values\n",
      "  raw = mne.io.read_raw_brainvision(filename, preload=True)\n",
      "<ipython-input-48-5ecc5c9291e8>:4: RuntimeWarning: Online software filter detected. Using software filter settings and ignoring hardware values\n",
      "  raw = mne.io.read_raw_brainvision(filename, preload=True)\n"
     ]
    },
    {
     "name": "stdout",
     "output_type": "stream",
     "text": [
      "Reading 0 ... 243030  =      0.000 ...   243.030 secs...\n",
      "Extracting parameters from data/Experiment_531_P3_Numbers/P3Numbers_20141124_m_14_002.vhdr...\n",
      "No info on DataPoints found. Inferring number of samples from the data file size.\n",
      "Setting channel info structure...\n",
      "Reading 0 ... 243030  =      0.000 ...   243.030 secs...\n",
      "Extracting parameters from data/Experiment_532_P3_Numbers/P3Numbers_20141124_m_14_004.vhdr...\n",
      "No info on DataPoints found. Inferring number of samples from the data file size.\n",
      "Setting channel info structure...\n",
      "Reading 0 ... 449971  =      0.000 ...   449.971 secs...\n",
      "Extracting parameters from data/Experiment_533_P3_Numbers/P3Numbers_20141124_m_15_001.vhdr...\n",
      "No info on DataPoints found. Inferring number of samples from the data file size.\n",
      "Setting channel info structure...\n",
      "Reading 0 ... 213462  =      0.000 ...   213.462 secs...\n",
      "Extracting parameters from data/Experiment_534_P3_Numbers/P3Numbers_20141124_m_17_001.vhdr...\n",
      "No info on DataPoints found. Inferring number of samples from the data file size.\n",
      "Setting channel info structure...\n",
      "Reading 0 ... 326999  =      0.000 ...   326.999 secs...\n"
     ]
    },
    {
     "name": "stderr",
     "output_type": "stream",
     "text": [
      "<ipython-input-48-5ecc5c9291e8>:4: RuntimeWarning: Online software filter detected. Using software filter settings and ignoring hardware values\n",
      "  raw = mne.io.read_raw_brainvision(filename, preload=True)\n",
      "<ipython-input-48-5ecc5c9291e8>:4: RuntimeWarning: Online software filter detected. Using software filter settings and ignoring hardware values\n",
      "  raw = mne.io.read_raw_brainvision(filename, preload=True)\n",
      "<ipython-input-48-5ecc5c9291e8>:4: RuntimeWarning: Online software filter detected. Using software filter settings and ignoring hardware values\n",
      "  raw = mne.io.read_raw_brainvision(filename, preload=True)\n",
      "<ipython-input-48-5ecc5c9291e8>:4: RuntimeWarning: Online software filter detected. Using software filter settings and ignoring hardware values\n",
      "  raw = mne.io.read_raw_brainvision(filename, preload=True)\n"
     ]
    },
    {
     "name": "stdout",
     "output_type": "stream",
     "text": [
      "Extracting parameters from data/Experiment_535_P3_Numbers/P3Numbers_20141204_f_10_001.vhdr...\n",
      "No info on DataPoints found. Inferring number of samples from the data file size.\n",
      "Setting channel info structure...\n",
      "Reading 0 ... 478030  =      0.000 ...   478.030 secs...\n",
      "Extracting parameters from data/Experiment_536_P3_Numbers/P3Numbers_20141204_f_11_001.vhdr...\n",
      "No info on DataPoints found. Inferring number of samples from the data file size.\n",
      "Setting channel info structure...\n",
      "Reading 0 ... 199773  =      0.000 ...   199.773 secs...\n",
      "Extracting parameters from data/Experiment_537_P3_Numbers/P3Numbers_20141204_f_11_002.vhdr...\n",
      "No info on DataPoints found. Inferring number of samples from the data file size.\n",
      "Setting channel info structure...\n",
      "Reading 0 ... 429797  =      0.000 ...   429.797 secs...\n"
     ]
    },
    {
     "name": "stderr",
     "output_type": "stream",
     "text": [
      "<ipython-input-48-5ecc5c9291e8>:4: RuntimeWarning: Online software filter detected. Using software filter settings and ignoring hardware values\n",
      "  raw = mne.io.read_raw_brainvision(filename, preload=True)\n",
      "<ipython-input-48-5ecc5c9291e8>:4: RuntimeWarning: Online software filter detected. Using software filter settings and ignoring hardware values\n",
      "  raw = mne.io.read_raw_brainvision(filename, preload=True)\n",
      "<ipython-input-48-5ecc5c9291e8>:4: RuntimeWarning: Online software filter detected. Using software filter settings and ignoring hardware values\n",
      "  raw = mne.io.read_raw_brainvision(filename, preload=True)\n"
     ]
    },
    {
     "name": "stdout",
     "output_type": "stream",
     "text": [
      "Extracting parameters from data/Experiment_538_P3_Numbers/P3Numbers_20141204_f_11_003.vhdr...\n",
      "No info on DataPoints found. Inferring number of samples from the data file size.\n",
      "Setting channel info structure...\n",
      "Reading 0 ... 317756  =      0.000 ...   317.756 secs...\n",
      "Extracting parameters from data/Experiment_539_P3_Numbers/P3Numbers_20141204_f_11_004.vhdr...\n",
      "No info on DataPoints found. Inferring number of samples from the data file size.\n",
      "Setting channel info structure...\n",
      "Reading 0 ... 235747  =      0.000 ...   235.747 secs...\n",
      "Extracting parameters from data/Experiment_540_P3_Numbers/P3Numbers_20141204_f_11_005.vhdr...\n",
      "No info on DataPoints found. Inferring number of samples from the data file size.\n",
      "Setting channel info structure...\n",
      "Reading 0 ... 493918  =      0.000 ...   493.918 secs...\n"
     ]
    },
    {
     "name": "stderr",
     "output_type": "stream",
     "text": [
      "<ipython-input-48-5ecc5c9291e8>:4: RuntimeWarning: Online software filter detected. Using software filter settings and ignoring hardware values\n",
      "  raw = mne.io.read_raw_brainvision(filename, preload=True)\n",
      "<ipython-input-48-5ecc5c9291e8>:4: RuntimeWarning: Online software filter detected. Using software filter settings and ignoring hardware values\n",
      "  raw = mne.io.read_raw_brainvision(filename, preload=True)\n",
      "<ipython-input-48-5ecc5c9291e8>:4: RuntimeWarning: Online software filter detected. Using software filter settings and ignoring hardware values\n",
      "  raw = mne.io.read_raw_brainvision(filename, preload=True)\n"
     ]
    },
    {
     "name": "stdout",
     "output_type": "stream",
     "text": [
      "Extracting parameters from data/Experiment_541_P3_Numbers/P3Numbers_20141204_f_11_006.vhdr...\n",
      "No info on DataPoints found. Inferring number of samples from the data file size.\n",
      "Setting channel info structure...\n",
      "Reading 0 ... 383813  =      0.000 ...   383.813 secs...\n",
      "Extracting parameters from data/Experiment_542_P3_Numbers/P3Numbers_20141204_f_11_007.vhdr...\n",
      "No info on DataPoints found. Inferring number of samples from the data file size.\n",
      "Setting channel info structure...\n",
      "Reading 0 ... 255498  =      0.000 ...   255.498 secs...\n",
      "Extracting parameters from data/Experiment_543_P3_Numbers/P3Numbers_20141204_f_12_001.vhdr...\n",
      "No info on DataPoints found. Inferring number of samples from the data file size.\n",
      "Setting channel info structure...\n",
      "Reading 0 ... 467476  =      0.000 ...   467.476 secs...\n"
     ]
    },
    {
     "name": "stderr",
     "output_type": "stream",
     "text": [
      "<ipython-input-48-5ecc5c9291e8>:4: RuntimeWarning: Online software filter detected. Using software filter settings and ignoring hardware values\n",
      "  raw = mne.io.read_raw_brainvision(filename, preload=True)\n",
      "<ipython-input-48-5ecc5c9291e8>:4: RuntimeWarning: Online software filter detected. Using software filter settings and ignoring hardware values\n",
      "  raw = mne.io.read_raw_brainvision(filename, preload=True)\n",
      "<ipython-input-48-5ecc5c9291e8>:4: RuntimeWarning: Online software filter detected. Using software filter settings and ignoring hardware values\n",
      "  raw = mne.io.read_raw_brainvision(filename, preload=True)\n"
     ]
    },
    {
     "name": "stdout",
     "output_type": "stream",
     "text": [
      "Extracting parameters from data/Experiment_544_P3_Numbers/P3Numbers_20141204_f_12_002.vhdr...\n",
      "No info on DataPoints found. Inferring number of samples from the data file size.\n",
      "Setting channel info structure...\n",
      "Reading 0 ... 355327  =      0.000 ...   355.327 secs...\n",
      "Extracting parameters from data/Experiment_545_P3_Numbers/P3Numbers_20141204_f_12_003.vhdr...\n",
      "No info on DataPoints found. Inferring number of samples from the data file size.\n",
      "Setting channel info structure...\n",
      "Reading 0 ... 389512  =      0.000 ...   389.512 secs...\n",
      "Extracting parameters from data/Experiment_546_P3_Numbers/P3Numbers_20141204_f_13_001.vhdr...\n",
      "No info on DataPoints found. Inferring number of samples from the data file size.\n",
      "Setting channel info structure...\n",
      "Reading 0 ... 248970  =      0.000 ...   248.970 secs...\n"
     ]
    },
    {
     "name": "stderr",
     "output_type": "stream",
     "text": [
      "<ipython-input-48-5ecc5c9291e8>:4: RuntimeWarning: Online software filter detected. Using software filter settings and ignoring hardware values\n",
      "  raw = mne.io.read_raw_brainvision(filename, preload=True)\n",
      "<ipython-input-48-5ecc5c9291e8>:4: RuntimeWarning: Online software filter detected. Using software filter settings and ignoring hardware values\n",
      "  raw = mne.io.read_raw_brainvision(filename, preload=True)\n",
      "<ipython-input-48-5ecc5c9291e8>:4: RuntimeWarning: Online software filter detected. Using software filter settings and ignoring hardware values\n",
      "  raw = mne.io.read_raw_brainvision(filename, preload=True)\n"
     ]
    },
    {
     "name": "stdout",
     "output_type": "stream",
     "text": [
      "Extracting parameters from data/Experiment_547_P3_Numbers/P3Numbers_20141204_f_13_002.vhdr...\n",
      "No info on DataPoints found. Inferring number of samples from the data file size.\n",
      "Setting channel info structure...\n",
      "Reading 0 ... 341361  =      0.000 ...   341.361 secs...\n",
      "Extracting parameters from data/Experiment_548_P3_Numbers/P3Numbers_20141204_f_14_001.vhdr...\n",
      "No info on DataPoints found. Inferring number of samples from the data file size.\n",
      "Setting channel info structure...\n",
      "Reading 0 ... 474431  =      0.000 ...   474.431 secs...\n",
      "Extracting parameters from data/Experiment_549_P3_Numbers/P3Numbers_20141204_f_14_002.vhdr...\n"
     ]
    },
    {
     "name": "stderr",
     "output_type": "stream",
     "text": [
      "<ipython-input-48-5ecc5c9291e8>:4: RuntimeWarning: Online software filter detected. Using software filter settings and ignoring hardware values\n",
      "  raw = mne.io.read_raw_brainvision(filename, preload=True)\n",
      "<ipython-input-48-5ecc5c9291e8>:4: RuntimeWarning: Online software filter detected. Using software filter settings and ignoring hardware values\n",
      "  raw = mne.io.read_raw_brainvision(filename, preload=True)\n"
     ]
    },
    {
     "name": "stdout",
     "output_type": "stream",
     "text": [
      "No info on DataPoints found. Inferring number of samples from the data file size.\n",
      "Setting channel info structure...\n",
      "Reading 0 ... 252730  =      0.000 ...   252.730 secs...\n",
      "Extracting parameters from data/Experiment_550_P3_Numbers/P3Numbers_20141204_f_15_001.vhdr...\n",
      "No info on DataPoints found. Inferring number of samples from the data file size.\n",
      "Setting channel info structure...\n",
      "Reading 0 ... 128519  =      0.000 ...   128.519 secs...\n",
      "Extracting parameters from data/Experiment_551_P3_Numbers/P3Numbers_20141204_m_08_001.vhdr...\n",
      "No info on DataPoints found. Inferring number of samples from the data file size.\n",
      "Setting channel info structure...\n",
      "Reading 0 ... 398374  =      0.000 ...   398.374 secs...\n"
     ]
    },
    {
     "name": "stderr",
     "output_type": "stream",
     "text": [
      "<ipython-input-48-5ecc5c9291e8>:4: RuntimeWarning: Online software filter detected. Using software filter settings and ignoring hardware values\n",
      "  raw = mne.io.read_raw_brainvision(filename, preload=True)\n",
      "<ipython-input-48-5ecc5c9291e8>:4: RuntimeWarning: Online software filter detected. Using software filter settings and ignoring hardware values\n",
      "  raw = mne.io.read_raw_brainvision(filename, preload=True)\n",
      "<ipython-input-48-5ecc5c9291e8>:4: RuntimeWarning: Online software filter detected. Using software filter settings and ignoring hardware values\n",
      "  raw = mne.io.read_raw_brainvision(filename, preload=True)\n"
     ]
    },
    {
     "name": "stdout",
     "output_type": "stream",
     "text": [
      "Extracting parameters from data/Experiment_552_P3_Numbers/P3Numbers_20141204_m_11_001.vhdr...\n",
      "No info on DataPoints found. Inferring number of samples from the data file size.\n",
      "Setting channel info structure...\n",
      "Reading 0 ... 567319  =      0.000 ...   567.319 secs...\n",
      "Extracting parameters from data/Experiment_553_P3_Numbers/P3Numbers_20141204_m_11_002.vhdr...\n",
      "No info on DataPoints found. Inferring number of samples from the data file size.\n",
      "Setting channel info structure...\n",
      "Reading 0 ... 283862  =      0.000 ...   283.862 secs...\n",
      "Extracting parameters from data/Experiment_554_P3_Numbers/P3Numbers_20141204_m_12_001.vhdr...\n",
      "No info on DataPoints found. Inferring number of samples from the data file size.\n",
      "Setting channel info structure...\n"
     ]
    },
    {
     "name": "stderr",
     "output_type": "stream",
     "text": [
      "<ipython-input-48-5ecc5c9291e8>:4: RuntimeWarning: Online software filter detected. Using software filter settings and ignoring hardware values\n",
      "  raw = mne.io.read_raw_brainvision(filename, preload=True)\n",
      "<ipython-input-48-5ecc5c9291e8>:4: RuntimeWarning: Online software filter detected. Using software filter settings and ignoring hardware values\n",
      "  raw = mne.io.read_raw_brainvision(filename, preload=True)\n",
      "<ipython-input-48-5ecc5c9291e8>:4: RuntimeWarning: Online software filter detected. Using software filter settings and ignoring hardware values\n",
      "  raw = mne.io.read_raw_brainvision(filename, preload=True)\n"
     ]
    },
    {
     "name": "stdout",
     "output_type": "stream",
     "text": [
      "Reading 0 ... 159794  =      0.000 ...   159.794 secs...\n",
      "Extracting parameters from data/Experiment_555_P3_Numbers/P3Numbers_20141204_m_12_002.vhdr...\n",
      "No info on DataPoints found. Inferring number of samples from the data file size.\n",
      "Setting channel info structure...\n",
      "Reading 0 ... 125398  =      0.000 ...   125.398 secs...\n",
      "Extracting parameters from data/Experiment_556_P3_Numbers/P3Numbers_20141204_m_13_001.vhdr...\n",
      "No info on DataPoints found. Inferring number of samples from the data file size.\n",
      "Setting channel info structure...\n",
      "Reading 0 ... 335086  =      0.000 ...   335.086 secs...\n",
      "Extracting parameters from data/Experiment_557_P3_Numbers/P3Numbers_20141204_m_14_001.vhdr...\n",
      "No info on DataPoints found. Inferring number of samples from the data file size.\n",
      "Setting channel info structure...\n",
      "Reading 0 ... 383868  =      0.000 ...   383.868 secs...\n"
     ]
    },
    {
     "name": "stderr",
     "output_type": "stream",
     "text": [
      "<ipython-input-48-5ecc5c9291e8>:4: RuntimeWarning: Online software filter detected. Using software filter settings and ignoring hardware values\n",
      "  raw = mne.io.read_raw_brainvision(filename, preload=True)\n",
      "<ipython-input-48-5ecc5c9291e8>:4: RuntimeWarning: Online software filter detected. Using software filter settings and ignoring hardware values\n",
      "  raw = mne.io.read_raw_brainvision(filename, preload=True)\n",
      "<ipython-input-48-5ecc5c9291e8>:4: RuntimeWarning: Online software filter detected. Using software filter settings and ignoring hardware values\n",
      "  raw = mne.io.read_raw_brainvision(filename, preload=True)\n"
     ]
    },
    {
     "name": "stdout",
     "output_type": "stream",
     "text": [
      "Extracting parameters from data/Experiment_558_P3_Numbers/P3Numbers_20141204_m_14_002.vhdr...\n",
      "No info on DataPoints found. Inferring number of samples from the data file size.\n",
      "Setting channel info structure...\n",
      "Reading 0 ... 515335  =      0.000 ...   515.335 secs...\n",
      "Extracting parameters from data/Experiment_559_P3_Numbers/P3Numbers_20150224_f_11_002.vhdr...\n",
      "No info on DataPoints found. Inferring number of samples from the data file size.\n",
      "Setting channel info structure...\n",
      "Reading 0 ... 256894  =      0.000 ...   256.894 secs...\n",
      "Extracting parameters from data/Experiment_560_P3_Numbers/P3Numbers_20150224_f_14_001.vhdr...\n",
      "No info on DataPoints found. Inferring number of samples from the data file size.\n",
      "Setting channel info structure...\n",
      "Reading 0 ... 395101  =      0.000 ...   395.101 secs...\n"
     ]
    },
    {
     "name": "stderr",
     "output_type": "stream",
     "text": [
      "<ipython-input-48-5ecc5c9291e8>:4: RuntimeWarning: Online software filter detected. Using software filter settings and ignoring hardware values\n",
      "  raw = mne.io.read_raw_brainvision(filename, preload=True)\n",
      "<ipython-input-48-5ecc5c9291e8>:4: RuntimeWarning: Online software filter detected. Using software filter settings and ignoring hardware values\n",
      "  raw = mne.io.read_raw_brainvision(filename, preload=True)\n",
      "<ipython-input-48-5ecc5c9291e8>:4: RuntimeWarning: Online software filter detected. Using software filter settings and ignoring hardware values\n",
      "  raw = mne.io.read_raw_brainvision(filename, preload=True)\n"
     ]
    },
    {
     "name": "stdout",
     "output_type": "stream",
     "text": [
      "Extracting parameters from data/Experiment_561_P3_Numbers/P3Numbers_20150224_f_15_001.vhdr...\n",
      "No info on DataPoints found. Inferring number of samples from the data file size.\n",
      "Setting channel info structure...\n",
      "Reading 0 ... 301085  =      0.000 ...   301.085 secs...\n",
      "Extracting parameters from data/Experiment_562_P3_Numbers/P3Numbers_20150224_m_11_001.vhdr...\n",
      "No info on DataPoints found. Inferring number of samples from the data file size.\n",
      "Setting channel info structure...\n",
      "Reading 0 ... 267972  =      0.000 ...   267.972 secs...\n",
      "Extracting parameters from data/Experiment_563_P3_Numbers/P3Numbers_20150224_m_11_002.vhdr...\n",
      "No info on DataPoints found. Inferring number of samples from the data file size.\n",
      "Setting channel info structure...\n",
      "Reading 0 ... 322865  =      0.000 ...   322.865 secs...\n",
      "Extracting parameters from data/Experiment_564_P3_Numbers/P3Numbers_20150224_m_11_003.vhdr...\n"
     ]
    },
    {
     "name": "stderr",
     "output_type": "stream",
     "text": [
      "<ipython-input-48-5ecc5c9291e8>:4: RuntimeWarning: Online software filter detected. Using software filter settings and ignoring hardware values\n",
      "  raw = mne.io.read_raw_brainvision(filename, preload=True)\n",
      "<ipython-input-48-5ecc5c9291e8>:4: RuntimeWarning: Online software filter detected. Using software filter settings and ignoring hardware values\n",
      "  raw = mne.io.read_raw_brainvision(filename, preload=True)\n",
      "<ipython-input-48-5ecc5c9291e8>:4: RuntimeWarning: Online software filter detected. Using software filter settings and ignoring hardware values\n",
      "  raw = mne.io.read_raw_brainvision(filename, preload=True)\n"
     ]
    },
    {
     "name": "stdout",
     "output_type": "stream",
     "text": [
      "No info on DataPoints found. Inferring number of samples from the data file size.\n",
      "Setting channel info structure...\n",
      "Reading 0 ... 463393  =      0.000 ...   463.393 secs...\n",
      "Extracting parameters from data/Experiment_565_P3_Numbers/P3Numbers_20150224_m_11_004.vhdr...\n",
      "No info on DataPoints found. Inferring number of samples from the data file size.\n",
      "Setting channel info structure...\n",
      "Reading 0 ... 509481  =      0.000 ...   509.481 secs...\n",
      "Extracting parameters from data/Experiment_566_P3_Numbers/P3Numbers_20150224_m_12_001.vhdr...\n"
     ]
    },
    {
     "name": "stderr",
     "output_type": "stream",
     "text": [
      "<ipython-input-48-5ecc5c9291e8>:4: RuntimeWarning: Online software filter detected. Using software filter settings and ignoring hardware values\n",
      "  raw = mne.io.read_raw_brainvision(filename, preload=True)\n",
      "<ipython-input-48-5ecc5c9291e8>:4: RuntimeWarning: Online software filter detected. Using software filter settings and ignoring hardware values\n",
      "  raw = mne.io.read_raw_brainvision(filename, preload=True)\n"
     ]
    },
    {
     "name": "stdout",
     "output_type": "stream",
     "text": [
      "No info on DataPoints found. Inferring number of samples from the data file size.\n",
      "Setting channel info structure...\n",
      "Reading 0 ... 319347  =      0.000 ...   319.347 secs...\n",
      "Extracting parameters from data/Experiment_567_P3_Numbers/P3Numbers_20150224_m_12_002.vhdr...\n",
      "No info on DataPoints found. Inferring number of samples from the data file size.\n",
      "Setting channel info structure...\n",
      "Reading 0 ... 104009  =      0.000 ...   104.009 secs...\n",
      "Extracting parameters from data/Experiment_568_P3_Numbers/P3Numbers_20150224_m_12_003.vhdr...\n",
      "No info on DataPoints found. Inferring number of samples from the data file size.\n",
      "Setting channel info structure...\n",
      "Reading 0 ... 364441  =      0.000 ...   364.441 secs...\n",
      "Extracting parameters from data/Experiment_569_P3_Numbers/P3Numbers_20150224_m_13_001.vhdr...\n",
      "No info on DataPoints found. Inferring number of samples from the data file size.\n",
      "Setting channel info structure...\n",
      "Reading 0 ... 338616  =      0.000 ...   338.616 secs...\n"
     ]
    },
    {
     "name": "stderr",
     "output_type": "stream",
     "text": [
      "<ipython-input-48-5ecc5c9291e8>:4: RuntimeWarning: Online software filter detected. Using software filter settings and ignoring hardware values\n",
      "  raw = mne.io.read_raw_brainvision(filename, preload=True)\n",
      "<ipython-input-48-5ecc5c9291e8>:4: RuntimeWarning: Online software filter detected. Using software filter settings and ignoring hardware values\n",
      "  raw = mne.io.read_raw_brainvision(filename, preload=True)\n",
      "<ipython-input-48-5ecc5c9291e8>:4: RuntimeWarning: Online software filter detected. Using software filter settings and ignoring hardware values\n",
      "  raw = mne.io.read_raw_brainvision(filename, preload=True)\n",
      "<ipython-input-48-5ecc5c9291e8>:4: RuntimeWarning: Online software filter detected. Using software filter settings and ignoring hardware values\n",
      "  raw = mne.io.read_raw_brainvision(filename, preload=True)\n"
     ]
    },
    {
     "name": "stdout",
     "output_type": "stream",
     "text": [
      "Extracting parameters from data/Experiment_570_P3_Numbers/P3Numbers_20150224_m_13_002.vhdr...\n",
      "No info on DataPoints found. Inferring number of samples from the data file size.\n",
      "Setting channel info structure...\n",
      "Reading 0 ... 327922  =      0.000 ...   327.922 secs...\n",
      "Extracting parameters from data/Experiment_571_P3_Numbers/P3Numbers_20150224_m_14_001.vhdr...\n",
      "No info on DataPoints found. Inferring number of samples from the data file size.\n",
      "Setting channel info structure...\n",
      "Reading 0 ... 558988  =      0.000 ...   558.988 secs...\n",
      "Extracting parameters from data/Experiment_572_P3_Numbers/P3Numbers_20150224_m_15_001.vhdr...\n",
      "No info on DataPoints found. Inferring number of samples from the data file size.\n",
      "Setting channel info structure...\n",
      "Reading 0 ... 474091  =      0.000 ...   474.091 secs...\n"
     ]
    },
    {
     "name": "stderr",
     "output_type": "stream",
     "text": [
      "<ipython-input-48-5ecc5c9291e8>:4: RuntimeWarning: Online software filter detected. Using software filter settings and ignoring hardware values\n",
      "  raw = mne.io.read_raw_brainvision(filename, preload=True)\n",
      "<ipython-input-48-5ecc5c9291e8>:4: RuntimeWarning: Online software filter detected. Using software filter settings and ignoring hardware values\n",
      "  raw = mne.io.read_raw_brainvision(filename, preload=True)\n",
      "<ipython-input-48-5ecc5c9291e8>:4: RuntimeWarning: Online software filter detected. Using software filter settings and ignoring hardware values\n",
      "  raw = mne.io.read_raw_brainvision(filename, preload=True)\n"
     ]
    },
    {
     "name": "stdout",
     "output_type": "stream",
     "text": [
      "Extracting parameters from data/Experiment_573_P3_Numbers/P3Numbers_20150224_m_15_002.vhdr...\n",
      "No info on DataPoints found. Inferring number of samples from the data file size.\n",
      "Setting channel info structure...\n",
      "Reading 0 ... 483346  =      0.000 ...   483.346 secs...\n",
      "Extracting parameters from data/Experiment_574_P3_Numbers/P3Numbers_20150224_m_15_003.vhdr...\n",
      "No info on DataPoints found. Inferring number of samples from the data file size.\n",
      "Setting channel info structure...\n",
      "Reading 0 ... 345485  =      0.000 ...   345.485 secs...\n",
      "Extracting parameters from data/Experiment_575_P3_Numbers/P3Numbers_20150224_m_15_004.vhdr...\n",
      "No info on DataPoints found. Inferring number of samples from the data file size.\n",
      "Setting channel info structure...\n",
      "Reading 0 ... 332423  =      0.000 ...   332.423 secs...\n",
      "Extracting parameters from data/Experiment_576_P3_Numbers/P3Numbers_20150507_f_14_001.vhdr...\n",
      "No info on DataPoints found. Inferring number of samples from the data file size.\n",
      "Setting channel info structure...\n",
      "Reading 0 ... 465537  =      0.000 ...   465.537 secs...\n"
     ]
    },
    {
     "name": "stderr",
     "output_type": "stream",
     "text": [
      "<ipython-input-48-5ecc5c9291e8>:4: RuntimeWarning: Online software filter detected. Using software filter settings and ignoring hardware values\n",
      "  raw = mne.io.read_raw_brainvision(filename, preload=True)\n",
      "<ipython-input-48-5ecc5c9291e8>:4: RuntimeWarning: Online software filter detected. Using software filter settings and ignoring hardware values\n",
      "  raw = mne.io.read_raw_brainvision(filename, preload=True)\n",
      "<ipython-input-48-5ecc5c9291e8>:4: RuntimeWarning: Online software filter detected. Using software filter settings and ignoring hardware values\n",
      "  raw = mne.io.read_raw_brainvision(filename, preload=True)\n",
      "<ipython-input-48-5ecc5c9291e8>:4: RuntimeWarning: Online software filter detected. Using software filter settings and ignoring hardware values\n",
      "  raw = mne.io.read_raw_brainvision(filename, preload=True)\n"
     ]
    },
    {
     "name": "stdout",
     "output_type": "stream",
     "text": [
      "Extracting parameters from data/Experiment_577_P3_Numbers/P3Numbers_20150507_f_14_002.vhdr...\n",
      "No info on DataPoints found. Inferring number of samples from the data file size.\n",
      "Setting channel info structure...\n",
      "Reading 0 ... 177196  =      0.000 ...   177.196 secs...\n",
      "Extracting parameters from data/Experiment_578_P3_Numbers/P3Numbers_20150507_f_14_003.vhdr...\n",
      "No info on DataPoints found. Inferring number of samples from the data file size.\n",
      "Setting channel info structure...\n",
      "Reading 0 ... 181016  =      0.000 ...   181.016 secs...\n",
      "Extracting parameters from data/Experiment_579_P3_Numbers/P3Numbers_20150507_f_14_004.vhdr...\n",
      "No info on DataPoints found. Inferring number of samples from the data file size.\n",
      "Setting channel info structure...\n",
      "Reading 0 ... 357333  =      0.000 ...   357.333 secs...\n"
     ]
    },
    {
     "name": "stderr",
     "output_type": "stream",
     "text": [
      "<ipython-input-48-5ecc5c9291e8>:4: RuntimeWarning: Online software filter detected. Using software filter settings and ignoring hardware values\n",
      "  raw = mne.io.read_raw_brainvision(filename, preload=True)\n",
      "<ipython-input-48-5ecc5c9291e8>:4: RuntimeWarning: Online software filter detected. Using software filter settings and ignoring hardware values\n",
      "  raw = mne.io.read_raw_brainvision(filename, preload=True)\n",
      "<ipython-input-48-5ecc5c9291e8>:4: RuntimeWarning: Online software filter detected. Using software filter settings and ignoring hardware values\n",
      "  raw = mne.io.read_raw_brainvision(filename, preload=True)\n"
     ]
    },
    {
     "name": "stdout",
     "output_type": "stream",
     "text": [
      "Extracting parameters from data/Experiment_580_P3_Numbers/P3Numbers_20150507_f_14_005.vhdr...\n",
      "No info on DataPoints found. Inferring number of samples from the data file size.\n",
      "Setting channel info structure...\n",
      "Reading 0 ... 203427  =      0.000 ...   203.427 secs...\n",
      "Extracting parameters from data/Experiment_581_P3_Numbers/P3Numbers_20150507_m_13_001.vhdr...\n",
      "No info on DataPoints found. Inferring number of samples from the data file size.\n",
      "Setting channel info structure...\n",
      "Reading 0 ... 229878  =      0.000 ...   229.878 secs...\n",
      "Extracting parameters from data/Experiment_582_P3_Numbers/P3Numbers_20150507_m_14_001.vhdr...\n",
      "No info on DataPoints found. Inferring number of samples from the data file size.\n",
      "Setting channel info structure...\n",
      "Reading 0 ... 174660  =      0.000 ...   174.660 secs...\n"
     ]
    },
    {
     "name": "stderr",
     "output_type": "stream",
     "text": [
      "<ipython-input-48-5ecc5c9291e8>:4: RuntimeWarning: Online software filter detected. Using software filter settings and ignoring hardware values\n",
      "  raw = mne.io.read_raw_brainvision(filename, preload=True)\n",
      "<ipython-input-48-5ecc5c9291e8>:4: RuntimeWarning: Online software filter detected. Using software filter settings and ignoring hardware values\n",
      "  raw = mne.io.read_raw_brainvision(filename, preload=True)\n",
      "<ipython-input-48-5ecc5c9291e8>:4: RuntimeWarning: Online software filter detected. Using software filter settings and ignoring hardware values\n",
      "  raw = mne.io.read_raw_brainvision(filename, preload=True)\n"
     ]
    },
    {
     "name": "stdout",
     "output_type": "stream",
     "text": [
      "Extracting parameters from data/Experiment_583_P3_Numbers/P3Numbers_20150507_m_14_002.vhdr...\n",
      "No info on DataPoints found. Inferring number of samples from the data file size.\n",
      "Setting channel info structure...\n",
      "Reading 0 ... 380466  =      0.000 ...   380.466 secs...\n",
      "Extracting parameters from data/Experiment_584_P3_Numbers/P3Numbers_20150507_m_14_003.vhdr...\n",
      "No info on DataPoints found. Inferring number of samples from the data file size.\n",
      "Setting channel info structure...\n",
      "Reading 0 ... 389319  =      0.000 ...   389.319 secs...\n"
     ]
    },
    {
     "name": "stderr",
     "output_type": "stream",
     "text": [
      "<ipython-input-48-5ecc5c9291e8>:4: RuntimeWarning: Online software filter detected. Using software filter settings and ignoring hardware values\n",
      "  raw = mne.io.read_raw_brainvision(filename, preload=True)\n",
      "<ipython-input-48-5ecc5c9291e8>:4: RuntimeWarning: Online software filter detected. Using software filter settings and ignoring hardware values\n",
      "  raw = mne.io.read_raw_brainvision(filename, preload=True)\n"
     ]
    },
    {
     "name": "stdout",
     "output_type": "stream",
     "text": [
      "Extracting parameters from data/Experiment_585_P3_Numbers/P3Numbers_20150507_m_14_004.vhdr...\n",
      "No info on DataPoints found. Inferring number of samples from the data file size.\n",
      "Setting channel info structure...\n",
      "Reading 0 ... 218193  =      0.000 ...   218.193 secs...\n",
      "Extracting parameters from data/Experiment_586_P3_Numbers/P3Numbers_20150507_m_14_005.vhdr...\n",
      "No info on DataPoints found. Inferring number of samples from the data file size.\n",
      "Setting channel info structure...\n",
      "Reading 0 ... 420537  =      0.000 ...   420.537 secs...\n"
     ]
    },
    {
     "name": "stderr",
     "output_type": "stream",
     "text": [
      "<ipython-input-48-5ecc5c9291e8>:4: RuntimeWarning: Online software filter detected. Using software filter settings and ignoring hardware values\n",
      "  raw = mne.io.read_raw_brainvision(filename, preload=True)\n",
      "<ipython-input-48-5ecc5c9291e8>:4: RuntimeWarning: Online software filter detected. Using software filter settings and ignoring hardware values\n",
      "  raw = mne.io.read_raw_brainvision(filename, preload=True)\n"
     ]
    },
    {
     "name": "stdout",
     "output_type": "stream",
     "text": [
      "Extracting parameters from data/Experiment_587_P3_Numbers/P3Numbers_20150507_m_14_006.vhdr...\n",
      "No info on DataPoints found. Inferring number of samples from the data file size.\n",
      "Setting channel info structure...\n",
      "Reading 0 ... 132783  =      0.000 ...   132.783 secs...\n",
      "Extracting parameters from data/Experiment_588_P3_Numbers/P3Numbers_20150507_m_14_007.vhdr...\n",
      "No info on DataPoints found. Inferring number of samples from the data file size.\n",
      "Setting channel info structure...\n",
      "Reading 0 ... 193094  =      0.000 ...   193.094 secs...\n",
      "Extracting parameters from data/Experiment_589_P3_Numbers/P3Numbers_20150507_m_15_001.vhdr...\n",
      "No info on DataPoints found. Inferring number of samples from the data file size.\n",
      "Setting channel info structure...\n",
      "Reading 0 ... 504405  =      0.000 ...   504.405 secs...\n"
     ]
    },
    {
     "name": "stderr",
     "output_type": "stream",
     "text": [
      "<ipython-input-48-5ecc5c9291e8>:4: RuntimeWarning: Online software filter detected. Using software filter settings and ignoring hardware values\n",
      "  raw = mne.io.read_raw_brainvision(filename, preload=True)\n",
      "<ipython-input-48-5ecc5c9291e8>:4: RuntimeWarning: Online software filter detected. Using software filter settings and ignoring hardware values\n",
      "  raw = mne.io.read_raw_brainvision(filename, preload=True)\n",
      "<ipython-input-48-5ecc5c9291e8>:4: RuntimeWarning: Online software filter detected. Using software filter settings and ignoring hardware values\n",
      "  raw = mne.io.read_raw_brainvision(filename, preload=True)\n"
     ]
    },
    {
     "name": "stdout",
     "output_type": "stream",
     "text": [
      "Extracting parameters from data/Experiment_590_P3_Numbers/P3Numbers_20150507_m_16_001.vhdr...\n",
      "No info on DataPoints found. Inferring number of samples from the data file size.\n",
      "Setting channel info structure...\n",
      "Reading 0 ... 194874  =      0.000 ...   194.874 secs...\n",
      "Extracting parameters from data/Experiment_609_P3_Numbers/P3Numbers_20150107_f_13_001.vhdr...\n",
      "No info on DataPoints found. Inferring number of samples from the data file size.\n",
      "Setting channel info structure...\n",
      "Reading 0 ... 384493  =      0.000 ...   384.493 secs...\n",
      "Extracting parameters from data/Experiment_610_P3_Numbers/P3Numbers_20150107_f_14_001.vhdr...\n",
      "No info on DataPoints found. Inferring number of samples from the data file size.\n",
      "Setting channel info structure...\n",
      "Reading 0 ... 335637  =      0.000 ...   335.637 secs...\n"
     ]
    },
    {
     "name": "stderr",
     "output_type": "stream",
     "text": [
      "<ipython-input-48-5ecc5c9291e8>:4: RuntimeWarning: Online software filter detected. Using software filter settings and ignoring hardware values\n",
      "  raw = mne.io.read_raw_brainvision(filename, preload=True)\n",
      "<ipython-input-48-5ecc5c9291e8>:4: RuntimeWarning: Online software filter detected. Using software filter settings and ignoring hardware values\n",
      "  raw = mne.io.read_raw_brainvision(filename, preload=True)\n",
      "<ipython-input-48-5ecc5c9291e8>:4: RuntimeWarning: Online software filter detected. Using software filter settings and ignoring hardware values\n",
      "  raw = mne.io.read_raw_brainvision(filename, preload=True)\n"
     ]
    },
    {
     "name": "stdout",
     "output_type": "stream",
     "text": [
      "Extracting parameters from data/Experiment_612_P3_Numbers/P3Numbers_20150107_f_14_003.vhdr...\n",
      "No info on DataPoints found. Inferring number of samples from the data file size.\n",
      "Setting channel info structure...\n",
      "Reading 0 ... 166091  =      0.000 ...   166.091 secs...\n",
      "Extracting parameters from data/Experiment_613_P3_Numbers/P3Numbers_20150107_f_14_004.vhdr...\n",
      "No info on DataPoints found. Inferring number of samples from the data file size.\n",
      "Setting channel info structure...\n",
      "Reading 0 ... 198829  =      0.000 ...   198.829 secs...\n",
      "Extracting parameters from data/Experiment_614_P3_Numbers/P3Numbers_20150107_f_14_005.vhdr...\n",
      "No info on DataPoints found. Inferring number of samples from the data file size.\n",
      "Setting channel info structure...\n",
      "Reading 0 ... 295596  =      0.000 ...   295.596 secs...\n",
      "Extracting parameters from data/Experiment_615_P3_Numbers/P3Numbers_20150107_f_14_006.vhdr...\n",
      "No info on DataPoints found. Inferring number of samples from the data file size.\n"
     ]
    },
    {
     "name": "stderr",
     "output_type": "stream",
     "text": [
      "<ipython-input-48-5ecc5c9291e8>:4: RuntimeWarning: Online software filter detected. Using software filter settings and ignoring hardware values\n",
      "  raw = mne.io.read_raw_brainvision(filename, preload=True)\n",
      "<ipython-input-48-5ecc5c9291e8>:4: RuntimeWarning: Online software filter detected. Using software filter settings and ignoring hardware values\n",
      "  raw = mne.io.read_raw_brainvision(filename, preload=True)\n",
      "<ipython-input-48-5ecc5c9291e8>:4: RuntimeWarning: Online software filter detected. Using software filter settings and ignoring hardware values\n",
      "  raw = mne.io.read_raw_brainvision(filename, preload=True)\n"
     ]
    },
    {
     "name": "stdout",
     "output_type": "stream",
     "text": [
      "Setting channel info structure...\n",
      "Reading 0 ... 424532  =      0.000 ...   424.532 secs...\n",
      "Extracting parameters from data/Experiment_616_P3_Numbers/P3Numbers_20150107_f_14_007.vhdr...\n",
      "No info on DataPoints found. Inferring number of samples from the data file size.\n",
      "Setting channel info structure...\n",
      "Reading 0 ... 202146  =      0.000 ...   202.146 secs...\n",
      "Extracting parameters from data/Experiment_617_P3_Numbers/P3Numbers_20150107_f_15_001.vhdr...\n",
      "No info on DataPoints found. Inferring number of samples from the data file size.\n",
      "Setting channel info structure...\n",
      "Reading 0 ... 256822  =      0.000 ...   256.822 secs...\n"
     ]
    },
    {
     "name": "stderr",
     "output_type": "stream",
     "text": [
      "<ipython-input-48-5ecc5c9291e8>:4: RuntimeWarning: Online software filter detected. Using software filter settings and ignoring hardware values\n",
      "  raw = mne.io.read_raw_brainvision(filename, preload=True)\n",
      "<ipython-input-48-5ecc5c9291e8>:4: RuntimeWarning: Online software filter detected. Using software filter settings and ignoring hardware values\n",
      "  raw = mne.io.read_raw_brainvision(filename, preload=True)\n",
      "<ipython-input-48-5ecc5c9291e8>:4: RuntimeWarning: Online software filter detected. Using software filter settings and ignoring hardware values\n",
      "  raw = mne.io.read_raw_brainvision(filename, preload=True)\n"
     ]
    },
    {
     "name": "stdout",
     "output_type": "stream",
     "text": [
      "Extracting parameters from data/Experiment_618_P3_Numbers/P3Numbers_20150107_m_14_001.vhdr...\n",
      "No info on DataPoints found. Inferring number of samples from the data file size.\n",
      "Setting channel info structure...\n",
      "Reading 0 ... 344362  =      0.000 ...   344.362 secs...\n",
      "Extracting parameters from data/Experiment_619_P3_Numbers/P3Numbers_20150107_m_14_003.vhdr...\n",
      "No info on DataPoints found. Inferring number of samples from the data file size.\n",
      "Setting channel info structure...\n",
      "Reading 0 ... 144478  =      0.000 ...   144.478 secs...\n",
      "Extracting parameters from data/Experiment_620_P3_Numbers/P3Numbers_20150107_m_14_002.vhdr...\n",
      "No info on DataPoints found. Inferring number of samples from the data file size.\n",
      "Setting channel info structure...\n",
      "Reading 0 ... 263681  =      0.000 ...   263.681 secs...\n",
      "Extracting parameters from data/Experiment_621_P3_Numbers/P3Numbers_20150107_m_14_004.vhdr...\n",
      "No info on DataPoints found. Inferring number of samples from the data file size.\n",
      "Setting channel info structure...\n",
      "Reading 0 ... 395362  =      0.000 ...   395.362 secs...\n"
     ]
    },
    {
     "name": "stderr",
     "output_type": "stream",
     "text": [
      "<ipython-input-48-5ecc5c9291e8>:4: RuntimeWarning: Online software filter detected. Using software filter settings and ignoring hardware values\n",
      "  raw = mne.io.read_raw_brainvision(filename, preload=True)\n",
      "<ipython-input-48-5ecc5c9291e8>:4: RuntimeWarning: Online software filter detected. Using software filter settings and ignoring hardware values\n",
      "  raw = mne.io.read_raw_brainvision(filename, preload=True)\n",
      "<ipython-input-48-5ecc5c9291e8>:4: RuntimeWarning: Online software filter detected. Using software filter settings and ignoring hardware values\n",
      "  raw = mne.io.read_raw_brainvision(filename, preload=True)\n",
      "<ipython-input-48-5ecc5c9291e8>:4: RuntimeWarning: Online software filter detected. Using software filter settings and ignoring hardware values\n",
      "  raw = mne.io.read_raw_brainvision(filename, preload=True)\n"
     ]
    },
    {
     "name": "stdout",
     "output_type": "stream",
     "text": [
      "Extracting parameters from data/Experiment_622_P3_Numbers/P3Numbers_20150107_m_14_005.vhdr...\n",
      "No info on DataPoints found. Inferring number of samples from the data file size.\n",
      "Setting channel info structure...\n",
      "Reading 0 ... 231506  =      0.000 ...   231.506 secs...\n",
      "Extracting parameters from data/Experiment_623_P3_Numbers/P3Numbers_20150107_m_15_001.vhdr...\n",
      "No info on DataPoints found. Inferring number of samples from the data file size.\n",
      "Setting channel info structure...\n",
      "Reading 0 ... 406121  =      0.000 ...   406.121 secs...\n",
      "Extracting parameters from data/Experiment_624_P3_Numbers/P3Numbers_20150314_m_12_001.vhdr...\n",
      "No info on DataPoints found. Inferring number of samples from the data file size.\n",
      "Setting channel info structure...\n",
      "Reading 0 ... 370998  =      0.000 ...   370.998 secs...\n"
     ]
    },
    {
     "name": "stderr",
     "output_type": "stream",
     "text": [
      "<ipython-input-48-5ecc5c9291e8>:4: RuntimeWarning: Online software filter detected. Using software filter settings and ignoring hardware values\n",
      "  raw = mne.io.read_raw_brainvision(filename, preload=True)\n",
      "<ipython-input-48-5ecc5c9291e8>:4: RuntimeWarning: Online software filter detected. Using software filter settings and ignoring hardware values\n",
      "  raw = mne.io.read_raw_brainvision(filename, preload=True)\n",
      "<ipython-input-48-5ecc5c9291e8>:4: RuntimeWarning: Online software filter detected. Using software filter settings and ignoring hardware values\n",
      "  raw = mne.io.read_raw_brainvision(filename, preload=True)\n"
     ]
    },
    {
     "name": "stdout",
     "output_type": "stream",
     "text": [
      "Extracting parameters from data/Experiment_626_P3_Numbers/P3Numbers_20150203_m_15_001.vhdr...\n",
      "No info on DataPoints found. Inferring number of samples from the data file size.\n",
      "Setting channel info structure...\n",
      "Reading 0 ... 477520  =      0.000 ...   477.520 secs...\n",
      "Extracting parameters from data/Experiment_627_P3_Numbers/P3Numbers_20150203_m_16_001.vhdr...\n",
      "No info on DataPoints found. Inferring number of samples from the data file size.\n",
      "Setting channel info structure...\n",
      "Reading 0 ... 576610  =      0.000 ...   576.610 secs...\n"
     ]
    },
    {
     "name": "stderr",
     "output_type": "stream",
     "text": [
      "<ipython-input-48-5ecc5c9291e8>:4: RuntimeWarning: Online software filter detected. Using software filter settings and ignoring hardware values\n",
      "  raw = mne.io.read_raw_brainvision(filename, preload=True)\n",
      "<ipython-input-48-5ecc5c9291e8>:4: RuntimeWarning: Online software filter detected. Using software filter settings and ignoring hardware values\n",
      "  raw = mne.io.read_raw_brainvision(filename, preload=True)\n"
     ]
    },
    {
     "name": "stdout",
     "output_type": "stream",
     "text": [
      "Extracting parameters from data/Experiment_628_P3_Numbers/P3Numbers_20150203_m_17_001.vhdr...\n",
      "No info on DataPoints found. Inferring number of samples from the data file size.\n",
      "Setting channel info structure...\n",
      "Reading 0 ... 421940  =      0.000 ...   421.940 secs...\n",
      "Extracting parameters from data/Experiment_629_P3_Numbers/P3Numbers_20150203_m_17_002.vhdr...\n",
      "No info on DataPoints found. Inferring number of samples from the data file size.\n",
      "Setting channel info structure...\n",
      "Reading 0 ... 371936  =      0.000 ...   371.936 secs...\n",
      "Extracting parameters from data/Experiment_630_P3_Numbers/P3Numbers_20150203_m_17_003.vhdr...\n",
      "No info on DataPoints found. Inferring number of samples from the data file size.\n"
     ]
    },
    {
     "name": "stderr",
     "output_type": "stream",
     "text": [
      "<ipython-input-48-5ecc5c9291e8>:4: RuntimeWarning: Online software filter detected. Using software filter settings and ignoring hardware values\n",
      "  raw = mne.io.read_raw_brainvision(filename, preload=True)\n",
      "<ipython-input-48-5ecc5c9291e8>:4: RuntimeWarning: Online software filter detected. Using software filter settings and ignoring hardware values\n",
      "  raw = mne.io.read_raw_brainvision(filename, preload=True)\n"
     ]
    },
    {
     "name": "stdout",
     "output_type": "stream",
     "text": [
      "Setting channel info structure...\n",
      "Reading 0 ... 427180  =      0.000 ...   427.180 secs...\n",
      "Extracting parameters from data/Experiment_631_P3_Numbers/P3Numbers_20150203_m_17_004.vhdr...\n",
      "No info on DataPoints found. Inferring number of samples from the data file size.\n",
      "Setting channel info structure...\n",
      "Reading 0 ... 470891  =      0.000 ...   470.891 secs...\n"
     ]
    },
    {
     "name": "stderr",
     "output_type": "stream",
     "text": [
      "<ipython-input-48-5ecc5c9291e8>:4: RuntimeWarning: Online software filter detected. Using software filter settings and ignoring hardware values\n",
      "  raw = mne.io.read_raw_brainvision(filename, preload=True)\n",
      "<ipython-input-48-5ecc5c9291e8>:4: RuntimeWarning: Online software filter detected. Using software filter settings and ignoring hardware values\n",
      "  raw = mne.io.read_raw_brainvision(filename, preload=True)\n"
     ]
    },
    {
     "name": "stdout",
     "output_type": "stream",
     "text": [
      "Extracting parameters from data/Experiment_632_P3_Numbers/P3Numbers_20150203_m_17_005.vhdr...\n",
      "No info on DataPoints found. Inferring number of samples from the data file size.\n",
      "Setting channel info structure...\n",
      "Reading 0 ... 285247  =      0.000 ...   285.247 secs...\n",
      "Extracting parameters from data/Experiment_633_P3_Numbers/P3Numbers_20150203_m_17_006.vhdr...\n",
      "No info on DataPoints found. Inferring number of samples from the data file size.\n",
      "Setting channel info structure...\n",
      "Reading 0 ... 526066  =      0.000 ...   526.066 secs...\n"
     ]
    },
    {
     "name": "stderr",
     "output_type": "stream",
     "text": [
      "<ipython-input-48-5ecc5c9291e8>:4: RuntimeWarning: Online software filter detected. Using software filter settings and ignoring hardware values\n",
      "  raw = mne.io.read_raw_brainvision(filename, preload=True)\n",
      "<ipython-input-48-5ecc5c9291e8>:4: RuntimeWarning: Online software filter detected. Using software filter settings and ignoring hardware values\n",
      "  raw = mne.io.read_raw_brainvision(filename, preload=True)\n"
     ]
    },
    {
     "name": "stdout",
     "output_type": "stream",
     "text": [
      "Extracting parameters from data/Experiment_634_P3_Numbers/P3Numbers_20150126_f_09_001.vhdr...\n",
      "No info on DataPoints found. Inferring number of samples from the data file size.\n",
      "Setting channel info structure...\n",
      "Reading 0 ... 273012  =      0.000 ...   273.012 secs...\n",
      "Extracting parameters from data/Experiment_635_P3_Numbers/P3Numbers_20150126_f_09_002.vhdr...\n",
      "No info on DataPoints found. Inferring number of samples from the data file size.\n",
      "Setting channel info structure...\n",
      "Reading 0 ... 143693  =      0.000 ...   143.693 secs...\n",
      "Extracting parameters from data/Experiment_636_P3_Numbers/P3Numbers_20150126_f_10_001.vhdr...\n",
      "No info on DataPoints found. Inferring number of samples from the data file size.\n",
      "Setting channel info structure...\n",
      "Reading 0 ... 357253  =      0.000 ...   357.253 secs...\n"
     ]
    },
    {
     "name": "stderr",
     "output_type": "stream",
     "text": [
      "<ipython-input-48-5ecc5c9291e8>:4: RuntimeWarning: Online software filter detected. Using software filter settings and ignoring hardware values\n",
      "  raw = mne.io.read_raw_brainvision(filename, preload=True)\n",
      "<ipython-input-48-5ecc5c9291e8>:4: RuntimeWarning: Online software filter detected. Using software filter settings and ignoring hardware values\n",
      "  raw = mne.io.read_raw_brainvision(filename, preload=True)\n",
      "<ipython-input-48-5ecc5c9291e8>:4: RuntimeWarning: Online software filter detected. Using software filter settings and ignoring hardware values\n",
      "  raw = mne.io.read_raw_brainvision(filename, preload=True)\n"
     ]
    },
    {
     "name": "stdout",
     "output_type": "stream",
     "text": [
      "Extracting parameters from data/Experiment_637_P3_Numbers/P3Numbers_20150126_f_11_001.vhdr...\n",
      "No info on DataPoints found. Inferring number of samples from the data file size.\n",
      "Setting channel info structure...\n",
      "Reading 0 ... 447758  =      0.000 ...   447.758 secs...\n",
      "Extracting parameters from data/Experiment_638_P3_Numbers/P3Numbers_20150126_f_12_001.vhdr...\n",
      "No info on DataPoints found. Inferring number of samples from the data file size.\n",
      "Setting channel info structure...\n",
      "Reading 0 ... 496626  =      0.000 ...   496.626 secs...\n"
     ]
    },
    {
     "name": "stderr",
     "output_type": "stream",
     "text": [
      "<ipython-input-48-5ecc5c9291e8>:4: RuntimeWarning: Online software filter detected. Using software filter settings and ignoring hardware values\n",
      "  raw = mne.io.read_raw_brainvision(filename, preload=True)\n",
      "<ipython-input-48-5ecc5c9291e8>:4: RuntimeWarning: Online software filter detected. Using software filter settings and ignoring hardware values\n",
      "  raw = mne.io.read_raw_brainvision(filename, preload=True)\n"
     ]
    },
    {
     "name": "stdout",
     "output_type": "stream",
     "text": [
      "Extracting parameters from data/Experiment_639_P3_Numbers/P3Numbers_20150126_f_12_002.vhdr...\n",
      "No info on DataPoints found. Inferring number of samples from the data file size.\n",
      "Setting channel info structure...\n",
      "Reading 0 ... 364360  =      0.000 ...   364.360 secs...\n",
      "Extracting parameters from data/Experiment_640_P3_Numbers/P3Numbers_20150126_f_12_003.vhdr...\n",
      "No info on DataPoints found. Inferring number of samples from the data file size.\n",
      "Setting channel info structure...\n",
      "Reading 0 ... 132751  =      0.000 ...   132.751 secs...\n",
      "Extracting parameters from data/Experiment_641_P3_Numbers/P3Numbers_20150126_f_12_004.vhdr...\n",
      "No info on DataPoints found. Inferring number of samples from the data file size.\n",
      "Setting channel info structure...\n",
      "Reading 0 ... 388364  =      0.000 ...   388.364 secs...\n"
     ]
    },
    {
     "name": "stderr",
     "output_type": "stream",
     "text": [
      "<ipython-input-48-5ecc5c9291e8>:4: RuntimeWarning: Online software filter detected. Using software filter settings and ignoring hardware values\n",
      "  raw = mne.io.read_raw_brainvision(filename, preload=True)\n",
      "<ipython-input-48-5ecc5c9291e8>:4: RuntimeWarning: Online software filter detected. Using software filter settings and ignoring hardware values\n",
      "  raw = mne.io.read_raw_brainvision(filename, preload=True)\n",
      "<ipython-input-48-5ecc5c9291e8>:4: RuntimeWarning: Online software filter detected. Using software filter settings and ignoring hardware values\n",
      "  raw = mne.io.read_raw_brainvision(filename, preload=True)\n"
     ]
    },
    {
     "name": "stdout",
     "output_type": "stream",
     "text": [
      "Extracting parameters from data/Experiment_642_P3_Numbers/P3Numbers_20150126_f_13_001.vhdr...\n",
      "No info on DataPoints found. Inferring number of samples from the data file size.\n",
      "Setting channel info structure...\n",
      "Reading 0 ... 483911  =      0.000 ...   483.911 secs...\n",
      "Extracting parameters from data/Experiment_643_P3_Numbers/P3Numbers_20150126_f_14_001.vhdr...\n",
      "No info on DataPoints found. Inferring number of samples from the data file size.\n",
      "Setting channel info structure...\n",
      "Reading 0 ... 251889  =      0.000 ...   251.889 secs...\n",
      "Extracting parameters from data/Experiment_644_P3_Numbers/P3Numbers_20150126_f_14_001.vhdr...\n",
      "No info on DataPoints found. Inferring number of samples from the data file size.\n",
      "Setting channel info structure...\n",
      "Reading 0 ... 251889  =      0.000 ...   251.889 secs...\n"
     ]
    },
    {
     "name": "stderr",
     "output_type": "stream",
     "text": [
      "<ipython-input-48-5ecc5c9291e8>:4: RuntimeWarning: Online software filter detected. Using software filter settings and ignoring hardware values\n",
      "  raw = mne.io.read_raw_brainvision(filename, preload=True)\n",
      "<ipython-input-48-5ecc5c9291e8>:4: RuntimeWarning: Online software filter detected. Using software filter settings and ignoring hardware values\n",
      "  raw = mne.io.read_raw_brainvision(filename, preload=True)\n",
      "<ipython-input-48-5ecc5c9291e8>:4: RuntimeWarning: Online software filter detected. Using software filter settings and ignoring hardware values\n",
      "  raw = mne.io.read_raw_brainvision(filename, preload=True)\n"
     ]
    },
    {
     "name": "stdout",
     "output_type": "stream",
     "text": [
      "Extracting parameters from data/Experiment_648_P3_Numbers/P3Numbers_20150126_m_07_001.vhdr...\n",
      "No info on DataPoints found. Inferring number of samples from the data file size.\n",
      "Setting channel info structure...\n",
      "Reading 0 ... 370949  =      0.000 ...   370.949 secs...\n",
      "Extracting parameters from data/Experiment_649_P3_Numbers/P3Numbers_20150126_m_09_001.vhdr...\n",
      "No info on DataPoints found. Inferring number of samples from the data file size.\n",
      "Setting channel info structure...\n",
      "Reading 0 ... 502938  =      0.000 ...   502.938 secs...\n"
     ]
    },
    {
     "name": "stderr",
     "output_type": "stream",
     "text": [
      "<ipython-input-48-5ecc5c9291e8>:4: RuntimeWarning: Online software filter detected. Using software filter settings and ignoring hardware values\n",
      "  raw = mne.io.read_raw_brainvision(filename, preload=True)\n",
      "<ipython-input-48-5ecc5c9291e8>:4: RuntimeWarning: Online software filter detected. Using software filter settings and ignoring hardware values\n",
      "  raw = mne.io.read_raw_brainvision(filename, preload=True)\n"
     ]
    },
    {
     "name": "stdout",
     "output_type": "stream",
     "text": [
      "Extracting parameters from data/Experiment_650_P3_Numbers/P3Numbers_20150126_m_12_001.vhdr...\n",
      "No info on DataPoints found. Inferring number of samples from the data file size.\n",
      "Setting channel info structure...\n",
      "Reading 0 ... 157944  =      0.000 ...   157.944 secs...\n",
      "Extracting parameters from data/Experiment_651_P3_Numbers/P3Numbers_20150126_m_12_002.vhdr...\n",
      "No info on DataPoints found. Inferring number of samples from the data file size.\n",
      "Setting channel info structure...\n",
      "Reading 0 ... 346711  =      0.000 ...   346.711 secs...\n",
      "Extracting parameters from data/Experiment_652_P3_Numbers/P3Numbers_20150126_m_12_003.vhdr...\n",
      "No info on DataPoints found. Inferring number of samples from the data file size.\n",
      "Setting channel info structure...\n",
      "Reading 0 ... 276458  =      0.000 ...   276.458 secs...\n",
      "Extracting parameters from data/Experiment_653_P3_Numbers/P3Numbers_20150126_m_12_004.vhdr...\n"
     ]
    },
    {
     "name": "stderr",
     "output_type": "stream",
     "text": [
      "<ipython-input-48-5ecc5c9291e8>:4: RuntimeWarning: Online software filter detected. Using software filter settings and ignoring hardware values\n",
      "  raw = mne.io.read_raw_brainvision(filename, preload=True)\n",
      "<ipython-input-48-5ecc5c9291e8>:4: RuntimeWarning: Online software filter detected. Using software filter settings and ignoring hardware values\n",
      "  raw = mne.io.read_raw_brainvision(filename, preload=True)\n",
      "<ipython-input-48-5ecc5c9291e8>:4: RuntimeWarning: Online software filter detected. Using software filter settings and ignoring hardware values\n",
      "  raw = mne.io.read_raw_brainvision(filename, preload=True)\n"
     ]
    },
    {
     "name": "stdout",
     "output_type": "stream",
     "text": [
      "No info on DataPoints found. Inferring number of samples from the data file size.\n",
      "Setting channel info structure...\n",
      "Reading 0 ... 345115  =      0.000 ...   345.115 secs...\n",
      "Extracting parameters from data/Experiment_654_P3_Numbers/P3Numbers_20150126_m_13_001.vhdr...\n",
      "No info on DataPoints found. Inferring number of samples from the data file size.\n",
      "Setting channel info structure...\n",
      "Reading 0 ... 345304  =      0.000 ...   345.304 secs...\n",
      "Extracting parameters from data/Experiment_655_P3_Numbers/P3Numbers_20150126_m_13_001.vhdr...\n",
      "No info on DataPoints found. Inferring number of samples from the data file size.\n",
      "Setting channel info structure...\n",
      "Reading 0 ... 345304  =      0.000 ...   345.304 secs...\n"
     ]
    },
    {
     "name": "stderr",
     "output_type": "stream",
     "text": [
      "<ipython-input-48-5ecc5c9291e8>:4: RuntimeWarning: Online software filter detected. Using software filter settings and ignoring hardware values\n",
      "  raw = mne.io.read_raw_brainvision(filename, preload=True)\n",
      "<ipython-input-48-5ecc5c9291e8>:4: RuntimeWarning: Online software filter detected. Using software filter settings and ignoring hardware values\n",
      "  raw = mne.io.read_raw_brainvision(filename, preload=True)\n",
      "<ipython-input-48-5ecc5c9291e8>:4: RuntimeWarning: Online software filter detected. Using software filter settings and ignoring hardware values\n",
      "  raw = mne.io.read_raw_brainvision(filename, preload=True)\n"
     ]
    },
    {
     "name": "stdout",
     "output_type": "stream",
     "text": [
      "Extracting parameters from data/Experiment_656_P3_Numbers/P3Numbers_20150126_m_13_002.vhdr...\n",
      "No info on DataPoints found. Inferring number of samples from the data file size.\n",
      "Setting channel info structure...\n",
      "Reading 0 ... 429529  =      0.000 ...   429.529 secs...\n",
      "Extracting parameters from data/Experiment_657_P3_Numbers/P3Numbers_20150126_m_15_001.vhdr...\n",
      "No info on DataPoints found. Inferring number of samples from the data file size.\n",
      "Setting channel info structure...\n",
      "Reading 0 ... 262838  =      0.000 ...   262.838 secs...\n",
      "Extracting parameters from data/Experiment_658_P3_Numbers/P3Numbers_20150126_m_15_002.vhdr...\n",
      "No info on DataPoints found. Inferring number of samples from the data file size.\n",
      "Setting channel info structure...\n",
      "Reading 0 ... 289479  =      0.000 ...   289.479 secs...\n"
     ]
    },
    {
     "name": "stderr",
     "output_type": "stream",
     "text": [
      "<ipython-input-48-5ecc5c9291e8>:4: RuntimeWarning: Online software filter detected. Using software filter settings and ignoring hardware values\n",
      "  raw = mne.io.read_raw_brainvision(filename, preload=True)\n",
      "<ipython-input-48-5ecc5c9291e8>:4: RuntimeWarning: Online software filter detected. Using software filter settings and ignoring hardware values\n",
      "  raw = mne.io.read_raw_brainvision(filename, preload=True)\n",
      "<ipython-input-48-5ecc5c9291e8>:4: RuntimeWarning: Online software filter detected. Using software filter settings and ignoring hardware values\n",
      "  raw = mne.io.read_raw_brainvision(filename, preload=True)\n"
     ]
    },
    {
     "name": "stdout",
     "output_type": "stream",
     "text": [
      "Extracting parameters from data/Experiment_659_P3_Numbers/P3Numbers_20150126_m_15_003.vhdr...\n",
      "No info on DataPoints found. Inferring number of samples from the data file size.\n",
      "Setting channel info structure...\n",
      "Reading 0 ... 429089  =      0.000 ...   429.089 secs...\n",
      "Extracting parameters from data/Experiment_660_P3_Numbers/P3Numbers_20150126_m_15_004.vhdr...\n",
      "No info on DataPoints found. Inferring number of samples from the data file size.\n",
      "Setting channel info structure...\n",
      "Reading 0 ... 291193  =      0.000 ...   291.193 secs...\n",
      "Extracting parameters from data/Experiment_661_P3_Numbers/P3Numbers_20150204_f_11_001.vhdr...\n",
      "No info on DataPoints found. Inferring number of samples from the data file size.\n",
      "Setting channel info structure...\n",
      "Reading 0 ... 409558  =      0.000 ...   409.558 secs...\n"
     ]
    },
    {
     "name": "stderr",
     "output_type": "stream",
     "text": [
      "<ipython-input-48-5ecc5c9291e8>:4: RuntimeWarning: Online software filter detected. Using software filter settings and ignoring hardware values\n",
      "  raw = mne.io.read_raw_brainvision(filename, preload=True)\n",
      "<ipython-input-48-5ecc5c9291e8>:4: RuntimeWarning: Online software filter detected. Using software filter settings and ignoring hardware values\n",
      "  raw = mne.io.read_raw_brainvision(filename, preload=True)\n",
      "<ipython-input-48-5ecc5c9291e8>:4: RuntimeWarning: Online software filter detected. Using software filter settings and ignoring hardware values\n",
      "  raw = mne.io.read_raw_brainvision(filename, preload=True)\n"
     ]
    },
    {
     "name": "stdout",
     "output_type": "stream",
     "text": [
      "Extracting parameters from data/Experiment_662_P3_Numbers/P3Numbers_20150204_f_11_002.vhdr...\n",
      "No info on DataPoints found. Inferring number of samples from the data file size.\n",
      "Setting channel info structure...\n",
      "Reading 0 ... 280318  =      0.000 ...   280.318 secs...\n",
      "Extracting parameters from data/Experiment_663_P3_Numbers/P3Numbers_20150204_f_12_001.vhdr...\n",
      "No info on DataPoints found. Inferring number of samples from the data file size.\n",
      "Setting channel info structure...\n",
      "Reading 0 ... 303020  =      0.000 ...   303.020 secs...\n",
      "Extracting parameters from data/Experiment_664_P3_Numbers/P3Numbers_20150204_f_12_002.vhdr...\n",
      "No info on DataPoints found. Inferring number of samples from the data file size.\n",
      "Setting channel info structure...\n",
      "Reading 0 ... 303551  =      0.000 ...   303.551 secs...\n",
      "Extracting parameters from data/Experiment_665_P3_Numbers/P3Numbers_20150204_f_12_003.vhdr...\n",
      "No info on DataPoints found. Inferring number of samples from the data file size.\n",
      "Setting channel info structure...\n",
      "Reading 0 ... 201805  =      0.000 ...   201.805 secs...\n"
     ]
    },
    {
     "name": "stderr",
     "output_type": "stream",
     "text": [
      "<ipython-input-48-5ecc5c9291e8>:4: RuntimeWarning: Online software filter detected. Using software filter settings and ignoring hardware values\n",
      "  raw = mne.io.read_raw_brainvision(filename, preload=True)\n",
      "<ipython-input-48-5ecc5c9291e8>:4: RuntimeWarning: Online software filter detected. Using software filter settings and ignoring hardware values\n",
      "  raw = mne.io.read_raw_brainvision(filename, preload=True)\n",
      "<ipython-input-48-5ecc5c9291e8>:4: RuntimeWarning: Online software filter detected. Using software filter settings and ignoring hardware values\n",
      "  raw = mne.io.read_raw_brainvision(filename, preload=True)\n",
      "<ipython-input-48-5ecc5c9291e8>:4: RuntimeWarning: Online software filter detected. Using software filter settings and ignoring hardware values\n",
      "  raw = mne.io.read_raw_brainvision(filename, preload=True)\n"
     ]
    },
    {
     "name": "stdout",
     "output_type": "stream",
     "text": [
      "Extracting parameters from data/Experiment_666_P3_Numbers/P3Numbers_20150204_f_13_001.vhdr...\n",
      "No info on DataPoints found. Inferring number of samples from the data file size.\n",
      "Setting channel info structure...\n",
      "Reading 0 ... 203411  =      0.000 ...   203.411 secs...\n",
      "Extracting parameters from data/Experiment_667_P3_Numbers/P3Numbers_20150204_f_13_002.vhdr...\n",
      "No info on DataPoints found. Inferring number of samples from the data file size.\n",
      "Setting channel info structure...\n",
      "Reading 0 ... 419274  =      0.000 ...   419.274 secs...\n",
      "Extracting parameters from data/Experiment_668_P3_Numbers/P3Numbers_20150204_f_13_003.vhdr...\n",
      "No info on DataPoints found. Inferring number of samples from the data file size.\n",
      "Setting channel info structure...\n",
      "Reading 0 ... 345462  =      0.000 ...   345.462 secs...\n"
     ]
    },
    {
     "name": "stderr",
     "output_type": "stream",
     "text": [
      "<ipython-input-48-5ecc5c9291e8>:4: RuntimeWarning: Online software filter detected. Using software filter settings and ignoring hardware values\n",
      "  raw = mne.io.read_raw_brainvision(filename, preload=True)\n",
      "<ipython-input-48-5ecc5c9291e8>:4: RuntimeWarning: Online software filter detected. Using software filter settings and ignoring hardware values\n",
      "  raw = mne.io.read_raw_brainvision(filename, preload=True)\n",
      "<ipython-input-48-5ecc5c9291e8>:4: RuntimeWarning: Online software filter detected. Using software filter settings and ignoring hardware values\n",
      "  raw = mne.io.read_raw_brainvision(filename, preload=True)\n"
     ]
    },
    {
     "name": "stdout",
     "output_type": "stream",
     "text": [
      "Extracting parameters from data/Experiment_670_P3_Numbers/P3Numbers_20150204_m_12_001.vhdr...\n",
      "No info on DataPoints found. Inferring number of samples from the data file size.\n",
      "Setting channel info structure...\n",
      "Reading 0 ... 567302  =      0.000 ...   567.302 secs...\n",
      "Extracting parameters from data/Experiment_671_P3_Numbers/P3Numbers_20150204_m_12_002.vhdr...\n",
      "No info on DataPoints found. Inferring number of samples from the data file size.\n",
      "Setting channel info structure...\n",
      "Reading 0 ... 305478  =      0.000 ...   305.478 secs...\n",
      "Extracting parameters from data/Experiment_672_P3_Numbers/P3Numbers_20150204_m_12_003.vhdr...\n",
      "No info on DataPoints found. Inferring number of samples from the data file size.\n",
      "Setting channel info structure...\n",
      "Reading 0 ... 548916  =      0.000 ...   548.916 secs...\n"
     ]
    },
    {
     "name": "stderr",
     "output_type": "stream",
     "text": [
      "<ipython-input-48-5ecc5c9291e8>:4: RuntimeWarning: Online software filter detected. Using software filter settings and ignoring hardware values\n",
      "  raw = mne.io.read_raw_brainvision(filename, preload=True)\n",
      "<ipython-input-48-5ecc5c9291e8>:4: RuntimeWarning: Online software filter detected. Using software filter settings and ignoring hardware values\n",
      "  raw = mne.io.read_raw_brainvision(filename, preload=True)\n",
      "<ipython-input-48-5ecc5c9291e8>:4: RuntimeWarning: Online software filter detected. Using software filter settings and ignoring hardware values\n",
      "  raw = mne.io.read_raw_brainvision(filename, preload=True)\n"
     ]
    },
    {
     "name": "stdout",
     "output_type": "stream",
     "text": [
      "Extracting parameters from data/Experiment_673_P3_Numbers/P3Numbers_20150204_m_12_004.vhdr...\n",
      "No info on DataPoints found. Inferring number of samples from the data file size.\n",
      "Setting channel info structure...\n",
      "Reading 0 ... 499885  =      0.000 ...   499.885 secs...\n",
      "Extracting parameters from data/Experiment_674_P3_Numbers/P3Numbers_20150204_m_12_005.vhdr...\n",
      "No info on DataPoints found. Inferring number of samples from the data file size.\n",
      "Setting channel info structure...\n",
      "Reading 0 ... 409487  =      0.000 ...   409.487 secs...\n",
      "Extracting parameters from data/Experiment_675_P3_Numbers/P3Numbers_20150204_m_12_006.vhdr...\n",
      "No info on DataPoints found. Inferring number of samples from the data file size.\n",
      "Setting channel info structure...\n",
      "Reading 0 ... 439025  =      0.000 ...   439.025 secs...\n"
     ]
    },
    {
     "name": "stderr",
     "output_type": "stream",
     "text": [
      "<ipython-input-48-5ecc5c9291e8>:4: RuntimeWarning: Online software filter detected. Using software filter settings and ignoring hardware values\n",
      "  raw = mne.io.read_raw_brainvision(filename, preload=True)\n",
      "<ipython-input-48-5ecc5c9291e8>:4: RuntimeWarning: Online software filter detected. Using software filter settings and ignoring hardware values\n",
      "  raw = mne.io.read_raw_brainvision(filename, preload=True)\n",
      "<ipython-input-48-5ecc5c9291e8>:4: RuntimeWarning: Online software filter detected. Using software filter settings and ignoring hardware values\n",
      "  raw = mne.io.read_raw_brainvision(filename, preload=True)\n"
     ]
    },
    {
     "name": "stdout",
     "output_type": "stream",
     "text": [
      "Extracting parameters from data/Experiment_676_P3_Numbers/P3Numbers_20150204_m_13_001.vhdr...\n",
      "No info on DataPoints found. Inferring number of samples from the data file size.\n",
      "Setting channel info structure...\n",
      "Reading 0 ... 332292  =      0.000 ...   332.292 secs...\n",
      "Extracting parameters from data/Experiment_677_P3_Numbers/P3Numbers_20150204_m_13_002.vhdr...\n",
      "No info on DataPoints found. Inferring number of samples from the data file size.\n",
      "Setting channel info structure...\n",
      "Reading 0 ... 166286  =      0.000 ...   166.286 secs...\n",
      "Extracting parameters from data/Experiment_678_P3_Numbers/P3Numbers_20150204_m_13_003.vhdr...\n",
      "No info on DataPoints found. Inferring number of samples from the data file size.\n",
      "Setting channel info structure...\n",
      "Reading 0 ... 436668  =      0.000 ...   436.668 secs...\n"
     ]
    },
    {
     "name": "stderr",
     "output_type": "stream",
     "text": [
      "<ipython-input-48-5ecc5c9291e8>:4: RuntimeWarning: Online software filter detected. Using software filter settings and ignoring hardware values\n",
      "  raw = mne.io.read_raw_brainvision(filename, preload=True)\n",
      "<ipython-input-48-5ecc5c9291e8>:4: RuntimeWarning: Online software filter detected. Using software filter settings and ignoring hardware values\n",
      "  raw = mne.io.read_raw_brainvision(filename, preload=True)\n",
      "<ipython-input-48-5ecc5c9291e8>:4: RuntimeWarning: Online software filter detected. Using software filter settings and ignoring hardware values\n",
      "  raw = mne.io.read_raw_brainvision(filename, preload=True)\n"
     ]
    },
    {
     "name": "stdout",
     "output_type": "stream",
     "text": [
      "Extracting parameters from data/Experiment_679_P3_Numbers/P3Numbers_20150204_m_13_004.vhdr...\n",
      "No info on DataPoints found. Inferring number of samples from the data file size.\n",
      "Setting channel info structure...\n",
      "Reading 0 ... 519929  =      0.000 ...   519.929 secs...\n",
      "Extracting parameters from data/Experiment_680_P3_Numbers/P3Numbers_20150204_m_13_005.vhdr...\n",
      "No info on DataPoints found. Inferring number of samples from the data file size.\n",
      "Setting channel info structure...\n",
      "Reading 0 ... 217516  =      0.000 ...   217.516 secs...\n"
     ]
    },
    {
     "name": "stderr",
     "output_type": "stream",
     "text": [
      "<ipython-input-48-5ecc5c9291e8>:4: RuntimeWarning: Online software filter detected. Using software filter settings and ignoring hardware values\n",
      "  raw = mne.io.read_raw_brainvision(filename, preload=True)\n",
      "<ipython-input-48-5ecc5c9291e8>:4: RuntimeWarning: Online software filter detected. Using software filter settings and ignoring hardware values\n",
      "  raw = mne.io.read_raw_brainvision(filename, preload=True)\n"
     ]
    },
    {
     "name": "stdout",
     "output_type": "stream",
     "text": [
      "Extracting parameters from data/Experiment_681_P3_Numbers/P3Numbers_20150204_m_14_001.vhdr...\n",
      "No info on DataPoints found. Inferring number of samples from the data file size.\n",
      "Setting channel info structure...\n",
      "Reading 0 ... 435268  =      0.000 ...   435.268 secs...\n",
      "Extracting parameters from data/Experiment_682_P3_Numbers/P3Numbers_20150326_f_13_001.vhdr...\n",
      "No info on DataPoints found. Inferring number of samples from the data file size.\n",
      "Setting channel info structure...\n",
      "Reading 0 ... 112881  =      0.000 ...   112.881 secs...\n",
      "Extracting parameters from data/Experiment_683_P3_Numbers/P3Numbers_20150326_f_13_002.vhdr...\n",
      "No info on DataPoints found. Inferring number of samples from the data file size.\n",
      "Setting channel info structure...\n",
      "Reading 0 ... 351215  =      0.000 ...   351.215 secs...\n"
     ]
    },
    {
     "name": "stderr",
     "output_type": "stream",
     "text": [
      "<ipython-input-48-5ecc5c9291e8>:4: RuntimeWarning: Online software filter detected. Using software filter settings and ignoring hardware values\n",
      "  raw = mne.io.read_raw_brainvision(filename, preload=True)\n",
      "<ipython-input-48-5ecc5c9291e8>:4: RuntimeWarning: Online software filter detected. Using software filter settings and ignoring hardware values\n",
      "  raw = mne.io.read_raw_brainvision(filename, preload=True)\n",
      "<ipython-input-48-5ecc5c9291e8>:4: RuntimeWarning: Online software filter detected. Using software filter settings and ignoring hardware values\n",
      "  raw = mne.io.read_raw_brainvision(filename, preload=True)\n"
     ]
    },
    {
     "name": "stdout",
     "output_type": "stream",
     "text": [
      "Extracting parameters from data/Experiment_684_P3_Numbers/P3Numbers_20150326_f_15_001.vhdr...\n",
      "No info on DataPoints found. Inferring number of samples from the data file size.\n",
      "Setting channel info structure...\n",
      "Reading 0 ... 459707  =      0.000 ...   459.707 secs...\n",
      "Extracting parameters from data/Experiment_685_P3_Numbers/P3Numbers_20150326_m_14_001.vhdr...\n",
      "No info on DataPoints found. Inferring number of samples from the data file size.\n",
      "Setting channel info structure...\n",
      "Reading 0 ... 332824  =      0.000 ...   332.824 secs...\n"
     ]
    },
    {
     "name": "stderr",
     "output_type": "stream",
     "text": [
      "<ipython-input-48-5ecc5c9291e8>:4: RuntimeWarning: Online software filter detected. Using software filter settings and ignoring hardware values\n",
      "  raw = mne.io.read_raw_brainvision(filename, preload=True)\n",
      "<ipython-input-48-5ecc5c9291e8>:4: RuntimeWarning: Online software filter detected. Using software filter settings and ignoring hardware values\n",
      "  raw = mne.io.read_raw_brainvision(filename, preload=True)\n",
      "<ipython-input-48-5ecc5c9291e8>:4: RuntimeWarning: Channels contain different lowpass filters. Highest (weakest) filter setting (45.00 Hz) will be stored.\n",
      "  raw = mne.io.read_raw_brainvision(filename, preload=True)\n"
     ]
    },
    {
     "name": "stdout",
     "output_type": "stream",
     "text": [
      "Extracting parameters from data/Experiment_686_P3_Numbers/P3Numbers_20150326_m_14_002.vhdr...\n",
      "No info on DataPoints found. Inferring number of samples from the data file size.\n",
      "Setting channel info structure...\n",
      "Reading 0 ... 290811  =      0.000 ...   290.811 secs...\n",
      "Extracting parameters from data/Experiment_687_P3_Numbers/P3Numbers_20150326_m_15_001.vhdr...\n",
      "No info on DataPoints found. Inferring number of samples from the data file size.\n",
      "Setting channel info structure...\n",
      "Reading 0 ... 368433  =      0.000 ...   368.433 secs...\n",
      "Extracting parameters from data/Experiment_688_P3_Numbers/P3Numbers_20150326_m_15_002.vhdr...\n",
      "No info on DataPoints found. Inferring number of samples from the data file size.\n",
      "Setting channel info structure...\n",
      "Reading 0 ... 485548  =      0.000 ...   485.548 secs...\n"
     ]
    },
    {
     "name": "stderr",
     "output_type": "stream",
     "text": [
      "<ipython-input-48-5ecc5c9291e8>:4: RuntimeWarning: Online software filter detected. Using software filter settings and ignoring hardware values\n",
      "  raw = mne.io.read_raw_brainvision(filename, preload=True)\n",
      "<ipython-input-48-5ecc5c9291e8>:4: RuntimeWarning: Online software filter detected. Using software filter settings and ignoring hardware values\n",
      "  raw = mne.io.read_raw_brainvision(filename, preload=True)\n",
      "<ipython-input-48-5ecc5c9291e8>:4: RuntimeWarning: Channels contain different lowpass filters. Highest (weakest) filter setting (45.00 Hz) will be stored.\n",
      "  raw = mne.io.read_raw_brainvision(filename, preload=True)\n",
      "<ipython-input-48-5ecc5c9291e8>:4: RuntimeWarning: Online software filter detected. Using software filter settings and ignoring hardware values\n",
      "  raw = mne.io.read_raw_brainvision(filename, preload=True)\n"
     ]
    },
    {
     "name": "stdout",
     "output_type": "stream",
     "text": [
      "Extracting parameters from data/Experiment_689_P3_Numbers/P3Numbers_20150326_m_15_003.vhdr...\n",
      "No info on DataPoints found. Inferring number of samples from the data file size.\n",
      "Setting channel info structure...\n",
      "Reading 0 ... 408624  =      0.000 ...   408.624 secs...\n",
      "Extracting parameters from data/Experiment_690_P3_Numbers/P3Numbers_20150326_m_15_004.vhdr...\n",
      "No info on DataPoints found. Inferring number of samples from the data file size.\n",
      "Setting channel info structure...\n",
      "Reading 0 ... 385904  =      0.000 ...   385.904 secs...\n",
      "Extracting parameters from data/Experiment_691_P3_Numbers/P3Numbers_20150326_m_16_001.vhdr...\n",
      "No info on DataPoints found. Inferring number of samples from the data file size.\n",
      "Setting channel info structure...\n",
      "Reading 0 ... 269002  =      0.000 ...   269.002 secs...\n"
     ]
    },
    {
     "name": "stderr",
     "output_type": "stream",
     "text": [
      "<ipython-input-48-5ecc5c9291e8>:4: RuntimeWarning: Online software filter detected. Using software filter settings and ignoring hardware values\n",
      "  raw = mne.io.read_raw_brainvision(filename, preload=True)\n",
      "<ipython-input-48-5ecc5c9291e8>:4: RuntimeWarning: Online software filter detected. Using software filter settings and ignoring hardware values\n",
      "  raw = mne.io.read_raw_brainvision(filename, preload=True)\n",
      "<ipython-input-48-5ecc5c9291e8>:4: RuntimeWarning: Online software filter detected. Using software filter settings and ignoring hardware values\n",
      "  raw = mne.io.read_raw_brainvision(filename, preload=True)\n"
     ]
    },
    {
     "name": "stdout",
     "output_type": "stream",
     "text": [
      "Extracting parameters from data/Experiment_692_P3_Numbers/P3Numbers_20150514_f_09_001.vhdr...\n",
      "No info on DataPoints found. Inferring number of samples from the data file size.\n",
      "Setting channel info structure...\n",
      "Reading 0 ... 303554  =      0.000 ...   303.554 secs...\n",
      "Extracting parameters from data/Experiment_693_P3_Numbers/P3Numbers_20150514_f_09_002.vhdr...\n",
      "No info on DataPoints found. Inferring number of samples from the data file size.\n",
      "Setting channel info structure...\n",
      "Reading 0 ... 249676  =      0.000 ...   249.676 secs...\n",
      "Extracting parameters from data/Experiment_694_P3_Numbers/P3Numbers_20150514_f_10_001.vhdr...\n",
      "No info on DataPoints found. Inferring number of samples from the data file size.\n",
      "Setting channel info structure...\n",
      "Reading 0 ... 356137  =      0.000 ...   356.137 secs...\n"
     ]
    },
    {
     "name": "stderr",
     "output_type": "stream",
     "text": [
      "<ipython-input-48-5ecc5c9291e8>:4: RuntimeWarning: Online software filter detected. Using software filter settings and ignoring hardware values\n",
      "  raw = mne.io.read_raw_brainvision(filename, preload=True)\n",
      "<ipython-input-48-5ecc5c9291e8>:4: RuntimeWarning: Online software filter detected. Using software filter settings and ignoring hardware values\n",
      "  raw = mne.io.read_raw_brainvision(filename, preload=True)\n",
      "<ipython-input-48-5ecc5c9291e8>:4: RuntimeWarning: Online software filter detected. Using software filter settings and ignoring hardware values\n",
      "  raw = mne.io.read_raw_brainvision(filename, preload=True)\n"
     ]
    },
    {
     "name": "stdout",
     "output_type": "stream",
     "text": [
      "Extracting parameters from data/Experiment_695_P3_Numbers/P3Numbers_20150514_f_10_002.vhdr...\n",
      "No info on DataPoints found. Inferring number of samples from the data file size.\n",
      "Setting channel info structure...\n",
      "Reading 0 ... 253420  =      0.000 ...   253.420 secs...\n",
      "Extracting parameters from data/Experiment_696_P3_Numbers/P3Numbers_20150514_f_10_003.vhdr...\n",
      "No info on DataPoints found. Inferring number of samples from the data file size.\n",
      "Setting channel info structure...\n",
      "Reading 0 ... 125334  =      0.000 ...   125.334 secs...\n",
      "Extracting parameters from data/Experiment_697_P3_Numbers/P3Numbers_20150514_m_09_001.vhdr...\n",
      "No info on DataPoints found. Inferring number of samples from the data file size.\n",
      "Setting channel info structure...\n",
      "Reading 0 ... 122480  =      0.000 ...   122.480 secs...\n",
      "Extracting parameters from data/Experiment_698_P3_Numbers/P3Numbers_20150514_m_10_001.vhdr...\n",
      "No info on DataPoints found. Inferring number of samples from the data file size.\n",
      "Setting channel info structure...\n",
      "Reading 0 ... 492980  =      0.000 ...   492.980 secs...\n"
     ]
    },
    {
     "name": "stderr",
     "output_type": "stream",
     "text": [
      "<ipython-input-48-5ecc5c9291e8>:4: RuntimeWarning: Online software filter detected. Using software filter settings and ignoring hardware values\n",
      "  raw = mne.io.read_raw_brainvision(filename, preload=True)\n",
      "<ipython-input-48-5ecc5c9291e8>:4: RuntimeWarning: Online software filter detected. Using software filter settings and ignoring hardware values\n",
      "  raw = mne.io.read_raw_brainvision(filename, preload=True)\n",
      "<ipython-input-48-5ecc5c9291e8>:4: RuntimeWarning: Online software filter detected. Using software filter settings and ignoring hardware values\n",
      "  raw = mne.io.read_raw_brainvision(filename, preload=True)\n",
      "<ipython-input-48-5ecc5c9291e8>:4: RuntimeWarning: Online software filter detected. Using software filter settings and ignoring hardware values\n",
      "  raw = mne.io.read_raw_brainvision(filename, preload=True)\n"
     ]
    },
    {
     "name": "stdout",
     "output_type": "stream",
     "text": [
      "Extracting parameters from data/Experiment_699_P3_Numbers/P3Numbers_20150514_m_10_002.vhdr...\n",
      "No info on DataPoints found. Inferring number of samples from the data file size.\n",
      "Setting channel info structure...\n",
      "Reading 0 ... 375420  =      0.000 ...   375.420 secs...\n",
      "Extracting parameters from data/Experiment_700_P3_Numbers/P3Numbers_20150514_m_11_001.vhdr...\n",
      "No info on DataPoints found. Inferring number of samples from the data file size.\n",
      "Setting channel info structure...\n",
      "Reading 0 ... 413540  =      0.000 ...   413.540 secs...\n"
     ]
    },
    {
     "name": "stderr",
     "output_type": "stream",
     "text": [
      "<ipython-input-48-5ecc5c9291e8>:4: RuntimeWarning: Online software filter detected. Using software filter settings and ignoring hardware values\n",
      "  raw = mne.io.read_raw_brainvision(filename, preload=True)\n",
      "<ipython-input-48-5ecc5c9291e8>:4: RuntimeWarning: Online software filter detected. Using software filter settings and ignoring hardware values\n",
      "  raw = mne.io.read_raw_brainvision(filename, preload=True)\n"
     ]
    },
    {
     "name": "stdout",
     "output_type": "stream",
     "text": [
      "Extracting parameters from data/Experiment_701_P3_Numbers/P3Numbers_20150514_m_11_002.vhdr...\n",
      "No info on DataPoints found. Inferring number of samples from the data file size.\n",
      "Setting channel info structure...\n",
      "Reading 0 ... 248080  =      0.000 ...   248.080 secs...\n",
      "Extracting parameters from data/Experiment_702_P3_Numbers/P3Numbers_20150514_m_12_001.vhdr...\n",
      "No info on DataPoints found. Inferring number of samples from the data file size.\n",
      "Setting channel info structure...\n",
      "Reading 0 ... 249180  =      0.000 ...   249.180 secs...\n"
     ]
    },
    {
     "name": "stderr",
     "output_type": "stream",
     "text": [
      "<ipython-input-48-5ecc5c9291e8>:4: RuntimeWarning: Online software filter detected. Using software filter settings and ignoring hardware values\n",
      "  raw = mne.io.read_raw_brainvision(filename, preload=True)\n",
      "<ipython-input-48-5ecc5c9291e8>:4: RuntimeWarning: Online software filter detected. Using software filter settings and ignoring hardware values\n",
      "  raw = mne.io.read_raw_brainvision(filename, preload=True)\n"
     ]
    },
    {
     "name": "stdout",
     "output_type": "stream",
     "text": [
      "Extracting parameters from data/Experiment_703_P3_Numbers/P3Numbers_20150514_m_12_002.vhdr...\n",
      "No info on DataPoints found. Inferring number of samples from the data file size.\n",
      "Setting channel info structure...\n",
      "Reading 0 ... 361300  =      0.000 ...   361.300 secs...\n",
      "Extracting parameters from data/Experiment_704_P3_Numbers/P3Numbers_20150514_m_12_003.vhdr...\n",
      "No info on DataPoints found. Inferring number of samples from the data file size.\n",
      "Setting channel info structure...\n",
      "Reading 0 ... 400100  =      0.000 ...   400.100 secs...\n"
     ]
    },
    {
     "name": "stderr",
     "output_type": "stream",
     "text": [
      "<ipython-input-48-5ecc5c9291e8>:4: RuntimeWarning: Online software filter detected. Using software filter settings and ignoring hardware values\n",
      "  raw = mne.io.read_raw_brainvision(filename, preload=True)\n",
      "<ipython-input-48-5ecc5c9291e8>:4: RuntimeWarning: Online software filter detected. Using software filter settings and ignoring hardware values\n",
      "  raw = mne.io.read_raw_brainvision(filename, preload=True)\n"
     ]
    },
    {
     "name": "stdout",
     "output_type": "stream",
     "text": [
      "Extracting parameters from data/Experiment_705_P3_Numbers/P3Numbers_20150514_m_13_001.vhdr...\n",
      "No info on DataPoints found. Inferring number of samples from the data file size.\n",
      "Setting channel info structure...\n",
      "Reading 0 ... 333120  =      0.000 ...   333.120 secs...\n",
      "Extracting parameters from data/Experiment_706_P3_Numbers/P3Numbers_20150514_m_13_002.vhdr...\n",
      "No info on DataPoints found. Inferring number of samples from the data file size.\n",
      "Setting channel info structure...\n",
      "Reading 0 ... 418300  =      0.000 ...   418.300 secs...\n"
     ]
    },
    {
     "name": "stderr",
     "output_type": "stream",
     "text": [
      "<ipython-input-48-5ecc5c9291e8>:4: RuntimeWarning: Online software filter detected. Using software filter settings and ignoring hardware values\n",
      "  raw = mne.io.read_raw_brainvision(filename, preload=True)\n",
      "<ipython-input-48-5ecc5c9291e8>:4: RuntimeWarning: Online software filter detected. Using software filter settings and ignoring hardware values\n",
      "  raw = mne.io.read_raw_brainvision(filename, preload=True)\n"
     ]
    },
    {
     "name": "stdout",
     "output_type": "stream",
     "text": [
      "Extracting parameters from data/Experiment_707_P3_Numbers/P3Numbers_20150514_m_13_003.vhdr...\n",
      "No info on DataPoints found. Inferring number of samples from the data file size.\n",
      "Setting channel info structure...\n",
      "Reading 0 ... 189460  =      0.000 ...   189.460 secs...\n",
      "Extracting parameters from data/Experiment_708_P3_Numbers/P3Numbers_20150514_m_13_004.vhdr...\n",
      "No info on DataPoints found. Inferring number of samples from the data file size.\n",
      "Setting channel info structure...\n",
      "Reading 0 ... 396740  =      0.000 ...   396.740 secs...\n",
      "Extracting parameters from data/Experiment_709_P3_Numbers/P3Numbers_20150514_m_13_005.vhdr...\n",
      "No info on DataPoints found. Inferring number of samples from the data file size.\n",
      "Setting channel info structure...\n",
      "Reading 0 ... 246154  =      0.000 ...   246.154 secs...\n"
     ]
    },
    {
     "name": "stderr",
     "output_type": "stream",
     "text": [
      "<ipython-input-48-5ecc5c9291e8>:4: RuntimeWarning: Online software filter detected. Using software filter settings and ignoring hardware values\n",
      "  raw = mne.io.read_raw_brainvision(filename, preload=True)\n",
      "<ipython-input-48-5ecc5c9291e8>:4: RuntimeWarning: Online software filter detected. Using software filter settings and ignoring hardware values\n",
      "  raw = mne.io.read_raw_brainvision(filename, preload=True)\n",
      "<ipython-input-48-5ecc5c9291e8>:4: RuntimeWarning: Online software filter detected. Using software filter settings and ignoring hardware values\n",
      "  raw = mne.io.read_raw_brainvision(filename, preload=True)\n"
     ]
    },
    {
     "name": "stdout",
     "output_type": "stream",
     "text": [
      "Extracting parameters from data/Experiment_710_P3_Numbers/P3Numbers_20150514_m_13_006.vhdr...\n",
      "No info on DataPoints found. Inferring number of samples from the data file size.\n",
      "Setting channel info structure...\n",
      "Reading 0 ... 204900  =      0.000 ...   204.900 secs...\n",
      "Extracting parameters from data/Experiment_711_P3_Numbers/P3Numbers_20150514_m_13_007.vhdr...\n",
      "No info on DataPoints found. Inferring number of samples from the data file size.\n",
      "Setting channel info structure...\n",
      "Reading 0 ... 320353  =      0.000 ...   320.353 secs...\n",
      "Extracting parameters from data/Experiment_712_P3_Numbers/P3Numbers_20150526_f_13_001.vhdr...\n",
      "No info on DataPoints found. Inferring number of samples from the data file size.\n",
      "Setting channel info structure...\n",
      "Reading 0 ... 785347  =      0.000 ...   785.347 secs...\n"
     ]
    },
    {
     "name": "stderr",
     "output_type": "stream",
     "text": [
      "<ipython-input-48-5ecc5c9291e8>:4: RuntimeWarning: Online software filter detected. Using software filter settings and ignoring hardware values\n",
      "  raw = mne.io.read_raw_brainvision(filename, preload=True)\n",
      "<ipython-input-48-5ecc5c9291e8>:4: RuntimeWarning: Online software filter detected. Using software filter settings and ignoring hardware values\n",
      "  raw = mne.io.read_raw_brainvision(filename, preload=True)\n",
      "<ipython-input-48-5ecc5c9291e8>:4: RuntimeWarning: Online software filter detected. Using software filter settings and ignoring hardware values\n",
      "  raw = mne.io.read_raw_brainvision(filename, preload=True)\n"
     ]
    },
    {
     "name": "stdout",
     "output_type": "stream",
     "text": [
      "Extracting parameters from data/Experiment_713_P3_Numbers/P3Numbers_20150526_f_13_002.vhdr...\n",
      "No info on DataPoints found. Inferring number of samples from the data file size.\n",
      "Setting channel info structure...\n",
      "Reading 0 ... 236980  =      0.000 ...   236.980 secs...\n",
      "Extracting parameters from data/Experiment_714_P3_Numbers/P3Numbers_20150526_f_13_003.vhdr...\n",
      "No info on DataPoints found. Inferring number of samples from the data file size.\n",
      "Setting channel info structure...\n",
      "Reading 0 ... 111698  =      0.000 ...   111.698 secs...\n",
      "Extracting parameters from data/Experiment_715_P3_Numbers/P3Numbers_20150526_f_14_001.vhdr...\n",
      "No info on DataPoints found. Inferring number of samples from the data file size.\n",
      "Setting channel info structure...\n",
      "Reading 0 ... 238560  =      0.000 ...   238.560 secs...\n",
      "Extracting parameters from data/Experiment_716_P3_Numbers/P3Numbers_20150526_m_11_001.vhdr...\n",
      "No info on DataPoints found. Inferring number of samples from the data file size.\n",
      "Setting channel info structure...\n",
      "Reading 0 ... 280435  =      0.000 ...   280.435 secs...\n"
     ]
    },
    {
     "name": "stderr",
     "output_type": "stream",
     "text": [
      "<ipython-input-48-5ecc5c9291e8>:4: RuntimeWarning: Online software filter detected. Using software filter settings and ignoring hardware values\n",
      "  raw = mne.io.read_raw_brainvision(filename, preload=True)\n",
      "<ipython-input-48-5ecc5c9291e8>:4: RuntimeWarning: Online software filter detected. Using software filter settings and ignoring hardware values\n",
      "  raw = mne.io.read_raw_brainvision(filename, preload=True)\n",
      "<ipython-input-48-5ecc5c9291e8>:4: RuntimeWarning: Online software filter detected. Using software filter settings and ignoring hardware values\n",
      "  raw = mne.io.read_raw_brainvision(filename, preload=True)\n",
      "<ipython-input-48-5ecc5c9291e8>:4: RuntimeWarning: Online software filter detected. Using software filter settings and ignoring hardware values\n",
      "  raw = mne.io.read_raw_brainvision(filename, preload=True)\n"
     ]
    },
    {
     "name": "stdout",
     "output_type": "stream",
     "text": [
      "Extracting parameters from data/Experiment_717_P3_Numbers/P3Numbers_20150526_m_12_001.vhdr...\n",
      "No info on DataPoints found. Inferring number of samples from the data file size.\n",
      "Setting channel info structure...\n",
      "Reading 0 ... 564713  =      0.000 ...   564.713 secs...\n",
      "Extracting parameters from data/Experiment_718_P3_Numbers/P3Numbers_20150526_m_12_002.vhdr...\n",
      "No info on DataPoints found. Inferring number of samples from the data file size.\n",
      "Setting channel info structure...\n",
      "Reading 0 ... 316098  =      0.000 ...   316.098 secs...\n"
     ]
    },
    {
     "name": "stderr",
     "output_type": "stream",
     "text": [
      "<ipython-input-48-5ecc5c9291e8>:4: RuntimeWarning: Online software filter detected. Using software filter settings and ignoring hardware values\n",
      "  raw = mne.io.read_raw_brainvision(filename, preload=True)\n",
      "<ipython-input-48-5ecc5c9291e8>:4: RuntimeWarning: Online software filter detected. Using software filter settings and ignoring hardware values\n",
      "  raw = mne.io.read_raw_brainvision(filename, preload=True)\n"
     ]
    },
    {
     "name": "stdout",
     "output_type": "stream",
     "text": [
      "Extracting parameters from data/Experiment_719_P3_Numbers/P3Numbers_20150526_m_12_003.vhdr...\n",
      "No info on DataPoints found. Inferring number of samples from the data file size.\n",
      "Setting channel info structure...\n",
      "Reading 0 ... 218739  =      0.000 ...   218.739 secs...\n",
      "Extracting parameters from data/Experiment_720_P3_Numbers/P3Numbers_20150526_m_12_004.vhdr...\n",
      "No info on DataPoints found. Inferring number of samples from the data file size.\n",
      "Setting channel info structure...\n",
      "Reading 0 ... 484780  =      0.000 ...   484.780 secs...\n",
      "Extracting parameters from data/Experiment_721_P3_Numbers/P3Numbers_20150526_m_13_001.vhdr...\n",
      "No info on DataPoints found. Inferring number of samples from the data file size.\n",
      "Setting channel info structure...\n",
      "Reading 0 ... 244177  =      0.000 ...   244.177 secs...\n"
     ]
    },
    {
     "name": "stderr",
     "output_type": "stream",
     "text": [
      "<ipython-input-48-5ecc5c9291e8>:4: RuntimeWarning: Online software filter detected. Using software filter settings and ignoring hardware values\n",
      "  raw = mne.io.read_raw_brainvision(filename, preload=True)\n",
      "<ipython-input-48-5ecc5c9291e8>:4: RuntimeWarning: Online software filter detected. Using software filter settings and ignoring hardware values\n",
      "  raw = mne.io.read_raw_brainvision(filename, preload=True)\n",
      "<ipython-input-48-5ecc5c9291e8>:4: RuntimeWarning: Online software filter detected. Using software filter settings and ignoring hardware values\n",
      "  raw = mne.io.read_raw_brainvision(filename, preload=True)\n"
     ]
    },
    {
     "name": "stdout",
     "output_type": "stream",
     "text": [
      "Extracting parameters from data/Experiment_722_P3_Numbers/P3Numbers_20150526_m_13_002.vhdr...\n",
      "No info on DataPoints found. Inferring number of samples from the data file size.\n",
      "Setting channel info structure...\n",
      "Reading 0 ... 418856  =      0.000 ...   418.856 secs...\n",
      "Extracting parameters from data/Experiment_723_P3_Numbers/P3Numbers_20150526_m_13_003.vhdr...\n",
      "No info on DataPoints found. Inferring number of samples from the data file size.\n",
      "Setting channel info structure...\n",
      "Reading 0 ... 148260  =      0.000 ...   148.260 secs...\n",
      "Extracting parameters from data/Experiment_724_P3_Numbers/P3Numbers_20150526_m_13_004.vhdr...\n",
      "No info on DataPoints found. Inferring number of samples from the data file size.\n",
      "Setting channel info structure...\n",
      "Reading 0 ... 199840  =      0.000 ...   199.840 secs...\n",
      "Extracting parameters from data/Experiment_725_P3_Numbers/P3Numbers_20150526_m_13_005.vhdr...\n",
      "No info on DataPoints found. Inferring number of samples from the data file size.\n",
      "Setting channel info structure...\n",
      "Reading 0 ... 426260  =      0.000 ...   426.260 secs...\n"
     ]
    },
    {
     "name": "stderr",
     "output_type": "stream",
     "text": [
      "<ipython-input-48-5ecc5c9291e8>:4: RuntimeWarning: Online software filter detected. Using software filter settings and ignoring hardware values\n",
      "  raw = mne.io.read_raw_brainvision(filename, preload=True)\n",
      "<ipython-input-48-5ecc5c9291e8>:4: RuntimeWarning: Online software filter detected. Using software filter settings and ignoring hardware values\n",
      "  raw = mne.io.read_raw_brainvision(filename, preload=True)\n",
      "<ipython-input-48-5ecc5c9291e8>:4: RuntimeWarning: Online software filter detected. Using software filter settings and ignoring hardware values\n",
      "  raw = mne.io.read_raw_brainvision(filename, preload=True)\n",
      "<ipython-input-48-5ecc5c9291e8>:4: RuntimeWarning: Online software filter detected. Using software filter settings and ignoring hardware values\n",
      "  raw = mne.io.read_raw_brainvision(filename, preload=True)\n"
     ]
    },
    {
     "name": "stdout",
     "output_type": "stream",
     "text": [
      "Extracting parameters from data/Experiment_726_P3_Numbers/P3Numbers_20150526_m_14_001.vhdr...\n",
      "No info on DataPoints found. Inferring number of samples from the data file size.\n",
      "Setting channel info structure...\n",
      "Reading 0 ... 280913  =      0.000 ...   280.913 secs...\n",
      "Extracting parameters from data/Experiment_727_P3_Numbers/P3Numbers_20150526_m_14_002.vhdr...\n",
      "No info on DataPoints found. Inferring number of samples from the data file size.\n",
      "Setting channel info structure...\n",
      "Reading 0 ... 207093  =      0.000 ...   207.093 secs...\n",
      "Extracting parameters from data/Experiment_728_P3_Numbers/P3Numbers_20150526_m_14_003.vhdr...\n",
      "No info on DataPoints found. Inferring number of samples from the data file size.\n",
      "Setting channel info structure...\n",
      "Reading 0 ... 220620  =      0.000 ...   220.620 secs...\n",
      "Extracting parameters from data/Experiment_729_P3_Numbers/P3Numbers_20150526_m_14_004.vhdr...\n",
      "No info on DataPoints found. Inferring number of samples from the data file size.\n",
      "Setting channel info structure...\n",
      "Reading 0 ... 390034  =      0.000 ...   390.034 secs...\n"
     ]
    },
    {
     "name": "stderr",
     "output_type": "stream",
     "text": [
      "<ipython-input-48-5ecc5c9291e8>:4: RuntimeWarning: Online software filter detected. Using software filter settings and ignoring hardware values\n",
      "  raw = mne.io.read_raw_brainvision(filename, preload=True)\n",
      "<ipython-input-48-5ecc5c9291e8>:4: RuntimeWarning: Online software filter detected. Using software filter settings and ignoring hardware values\n",
      "  raw = mne.io.read_raw_brainvision(filename, preload=True)\n",
      "<ipython-input-48-5ecc5c9291e8>:4: RuntimeWarning: Online software filter detected. Using software filter settings and ignoring hardware values\n",
      "  raw = mne.io.read_raw_brainvision(filename, preload=True)\n",
      "<ipython-input-48-5ecc5c9291e8>:4: RuntimeWarning: Online software filter detected. Using software filter settings and ignoring hardware values\n",
      "  raw = mne.io.read_raw_brainvision(filename, preload=True)\n"
     ]
    },
    {
     "name": "stdout",
     "output_type": "stream",
     "text": [
      "Extracting parameters from data/Experiment_730_P3_Numbers/P3Numbers_20150526_m_14_005.vhdr...\n",
      "No info on DataPoints found. Inferring number of samples from the data file size.\n",
      "Setting channel info structure...\n",
      "Reading 0 ... 373000  =      0.000 ...   373.000 secs...\n",
      "Extracting parameters from data/Experiment_731_P3_Numbers/P3Numbers_20150526_m_14_006.vhdr...\n",
      "No info on DataPoints found. Inferring number of samples from the data file size.\n",
      "Setting channel info structure...\n",
      "Reading 0 ... 336460  =      0.000 ...   336.460 secs...\n"
     ]
    },
    {
     "name": "stderr",
     "output_type": "stream",
     "text": [
      "<ipython-input-48-5ecc5c9291e8>:4: RuntimeWarning: Online software filter detected. Using software filter settings and ignoring hardware values\n",
      "  raw = mne.io.read_raw_brainvision(filename, preload=True)\n",
      "<ipython-input-48-5ecc5c9291e8>:4: RuntimeWarning: Online software filter detected. Using software filter settings and ignoring hardware values\n",
      "  raw = mne.io.read_raw_brainvision(filename, preload=True)\n"
     ]
    },
    {
     "ename": "IndexError",
     "evalue": "too many indices for array",
     "output_type": "error",
     "traceback": [
      "\u001b[1;31m---------------------------------------------------------------------------\u001b[0m",
      "\u001b[1;31mIndexError\u001b[0m                                Traceback (most recent call last)",
      "\u001b[1;32m<ipython-input-50-f9f16900af8f>\u001b[0m in \u001b[0;36m<module>\u001b[1;34m\u001b[0m\n\u001b[0;32m     10\u001b[0m \u001b[1;32mfor\u001b[0m \u001b[0mi\u001b[0m \u001b[1;32min\u001b[0m \u001b[0mrange\u001b[0m\u001b[1;33m(\u001b[0m\u001b[0mlen\u001b[0m\u001b[1;33m(\u001b[0m\u001b[0mX_arr\u001b[0m\u001b[1;33m)\u001b[0m\u001b[1;33m)\u001b[0m\u001b[1;33m:\u001b[0m\u001b[1;33m\u001b[0m\u001b[1;33m\u001b[0m\u001b[0m\n\u001b[0;32m     11\u001b[0m \u001b[1;33m\u001b[0m\u001b[0m\n\u001b[1;32m---> 12\u001b[1;33m     \u001b[0mepochs\u001b[0m\u001b[1;33m.\u001b[0m\u001b[0mappend\u001b[0m\u001b[1;33m(\u001b[0m\u001b[0mmne\u001b[0m\u001b[1;33m.\u001b[0m\u001b[0mEpochs\u001b[0m\u001b[1;33m(\u001b[0m\u001b[0mX_arr\u001b[0m\u001b[1;33m[\u001b[0m\u001b[0mi\u001b[0m\u001b[1;33m]\u001b[0m\u001b[1;33m,\u001b[0m\u001b[0my_arr\u001b[0m\u001b[1;33m[\u001b[0m\u001b[0mi\u001b[0m\u001b[1;33m]\u001b[0m\u001b[1;33m,\u001b[0m \u001b[0mpreload\u001b[0m\u001b[1;33m=\u001b[0m\u001b[1;32mTrue\u001b[0m\u001b[1;33m)\u001b[0m\u001b[1;33m)\u001b[0m\u001b[1;33m\u001b[0m\u001b[1;33m\u001b[0m\u001b[0m\n\u001b[0m\u001b[0;32m     13\u001b[0m \u001b[1;33m\u001b[0m\u001b[0m\n\u001b[0;32m     14\u001b[0m \u001b[1;33m\u001b[0m\u001b[0m\n",
      "\u001b[1;32m<C:\\Users\\Nicsi\\Anaconda3\\envs\\TF_env\\lib\\site-packages\\mne\\externals\\decorator.py:decorator-gen-180>\u001b[0m in \u001b[0;36m__init__\u001b[1;34m(self, raw, events, event_id, tmin, tmax, baseline, picks, preload, reject, flat, proj, decim, reject_tmin, reject_tmax, detrend, on_missing, reject_by_annotation, metadata, event_repeated, verbose)\u001b[0m\n",
      "\u001b[1;32m~\\Anaconda3\\envs\\TF_env\\lib\\site-packages\\mne\\utils\\_logging.py\u001b[0m in \u001b[0;36mwrapper\u001b[1;34m(*args, **kwargs)\u001b[0m\n\u001b[0;32m     88\u001b[0m             \u001b[1;32mwith\u001b[0m \u001b[0muse_log_level\u001b[0m\u001b[1;33m(\u001b[0m\u001b[0mverbose_level\u001b[0m\u001b[1;33m)\u001b[0m\u001b[1;33m:\u001b[0m\u001b[1;33m\u001b[0m\u001b[1;33m\u001b[0m\u001b[0m\n\u001b[0;32m     89\u001b[0m                 \u001b[1;32mreturn\u001b[0m \u001b[0mfunction\u001b[0m\u001b[1;33m(\u001b[0m\u001b[1;33m*\u001b[0m\u001b[0margs\u001b[0m\u001b[1;33m,\u001b[0m \u001b[1;33m**\u001b[0m\u001b[0mkwargs\u001b[0m\u001b[1;33m)\u001b[0m\u001b[1;33m\u001b[0m\u001b[1;33m\u001b[0m\u001b[0m\n\u001b[1;32m---> 90\u001b[1;33m         \u001b[1;32mreturn\u001b[0m \u001b[0mfunction\u001b[0m\u001b[1;33m(\u001b[0m\u001b[1;33m*\u001b[0m\u001b[0margs\u001b[0m\u001b[1;33m,\u001b[0m \u001b[1;33m**\u001b[0m\u001b[0mkwargs\u001b[0m\u001b[1;33m)\u001b[0m\u001b[1;33m\u001b[0m\u001b[1;33m\u001b[0m\u001b[0m\n\u001b[0m\u001b[0;32m     91\u001b[0m     return FunctionMaker.create(\n\u001b[0;32m     92\u001b[0m         \u001b[0mfunction\u001b[0m\u001b[1;33m,\u001b[0m \u001b[1;34m'return decfunc(%(signature)s)'\u001b[0m\u001b[1;33m,\u001b[0m\u001b[1;33m\u001b[0m\u001b[1;33m\u001b[0m\u001b[0m\n",
      "\u001b[1;32m~\\Anaconda3\\envs\\TF_env\\lib\\site-packages\\mne\\epochs.py\u001b[0m in \u001b[0;36m__init__\u001b[1;34m(self, raw, events, event_id, tmin, tmax, baseline, picks, preload, reject, flat, proj, decim, reject_tmin, reject_tmax, detrend, on_missing, reject_by_annotation, metadata, event_repeated, verbose)\u001b[0m\n\u001b[0;32m   1958\u001b[0m             \u001b[0mreject_tmax\u001b[0m\u001b[1;33m=\u001b[0m\u001b[0mreject_tmax\u001b[0m\u001b[1;33m,\u001b[0m \u001b[0mdetrend\u001b[0m\u001b[1;33m=\u001b[0m\u001b[0mdetrend\u001b[0m\u001b[1;33m,\u001b[0m\u001b[1;33m\u001b[0m\u001b[1;33m\u001b[0m\u001b[0m\n\u001b[0;32m   1959\u001b[0m             \u001b[0mproj\u001b[0m\u001b[1;33m=\u001b[0m\u001b[0mproj\u001b[0m\u001b[1;33m,\u001b[0m \u001b[0mon_missing\u001b[0m\u001b[1;33m=\u001b[0m\u001b[0mon_missing\u001b[0m\u001b[1;33m,\u001b[0m \u001b[0mpreload_at_end\u001b[0m\u001b[1;33m=\u001b[0m\u001b[0mpreload\u001b[0m\u001b[1;33m,\u001b[0m\u001b[1;33m\u001b[0m\u001b[1;33m\u001b[0m\u001b[0m\n\u001b[1;32m-> 1960\u001b[1;33m             event_repeated=event_repeated, verbose=verbose)\n\u001b[0m\u001b[0;32m   1961\u001b[0m \u001b[1;33m\u001b[0m\u001b[0m\n\u001b[0;32m   1962\u001b[0m     \u001b[1;33m@\u001b[0m\u001b[0mverbose\u001b[0m\u001b[1;33m\u001b[0m\u001b[1;33m\u001b[0m\u001b[0m\n",
      "\u001b[1;32m<C:\\Users\\Nicsi\\Anaconda3\\envs\\TF_env\\lib\\site-packages\\mne\\externals\\decorator.py:decorator-gen-171>\u001b[0m in \u001b[0;36m__init__\u001b[1;34m(self, info, data, events, event_id, tmin, tmax, baseline, raw, picks, reject, flat, decim, reject_tmin, reject_tmax, detrend, proj, on_missing, preload_at_end, selection, drop_log, filename, metadata, event_repeated, verbose)\u001b[0m\n",
      "\u001b[1;32m~\\Anaconda3\\envs\\TF_env\\lib\\site-packages\\mne\\utils\\_logging.py\u001b[0m in \u001b[0;36mwrapper\u001b[1;34m(*args, **kwargs)\u001b[0m\n\u001b[0;32m     88\u001b[0m             \u001b[1;32mwith\u001b[0m \u001b[0muse_log_level\u001b[0m\u001b[1;33m(\u001b[0m\u001b[0mverbose_level\u001b[0m\u001b[1;33m)\u001b[0m\u001b[1;33m:\u001b[0m\u001b[1;33m\u001b[0m\u001b[1;33m\u001b[0m\u001b[0m\n\u001b[0;32m     89\u001b[0m                 \u001b[1;32mreturn\u001b[0m \u001b[0mfunction\u001b[0m\u001b[1;33m(\u001b[0m\u001b[1;33m*\u001b[0m\u001b[0margs\u001b[0m\u001b[1;33m,\u001b[0m \u001b[1;33m**\u001b[0m\u001b[0mkwargs\u001b[0m\u001b[1;33m)\u001b[0m\u001b[1;33m\u001b[0m\u001b[1;33m\u001b[0m\u001b[0m\n\u001b[1;32m---> 90\u001b[1;33m         \u001b[1;32mreturn\u001b[0m \u001b[0mfunction\u001b[0m\u001b[1;33m(\u001b[0m\u001b[1;33m*\u001b[0m\u001b[0margs\u001b[0m\u001b[1;33m,\u001b[0m \u001b[1;33m**\u001b[0m\u001b[0mkwargs\u001b[0m\u001b[1;33m)\u001b[0m\u001b[1;33m\u001b[0m\u001b[1;33m\u001b[0m\u001b[0m\n\u001b[0m\u001b[0;32m     91\u001b[0m     return FunctionMaker.create(\n\u001b[0;32m     92\u001b[0m         \u001b[0mfunction\u001b[0m\u001b[1;33m,\u001b[0m \u001b[1;34m'return decfunc(%(signature)s)'\u001b[0m\u001b[1;33m,\u001b[0m\u001b[1;33m\u001b[0m\u001b[1;33m\u001b[0m\u001b[0m\n",
      "\u001b[1;32m~\\Anaconda3\\envs\\TF_env\\lib\\site-packages\\mne\\epochs.py\u001b[0m in \u001b[0;36m__init__\u001b[1;34m(self, info, data, events, event_id, tmin, tmax, baseline, raw, picks, reject, flat, decim, reject_tmin, reject_tmax, detrend, proj, on_missing, preload_at_end, selection, drop_log, filename, metadata, event_repeated, verbose)\u001b[0m\n\u001b[0;32m    384\u001b[0m             \u001b[0mevents\u001b[0m \u001b[1;33m=\u001b[0m \u001b[0mnp\u001b[0m\u001b[1;33m.\u001b[0m\u001b[0masarray\u001b[0m\u001b[1;33m(\u001b[0m\u001b[0mevents\u001b[0m\u001b[1;33m)\u001b[0m\u001b[1;33m\u001b[0m\u001b[1;33m\u001b[0m\u001b[0m\n\u001b[0;32m    385\u001b[0m \u001b[1;33m\u001b[0m\u001b[0m\n\u001b[1;32m--> 386\u001b[1;33m         \u001b[0mevent_id\u001b[0m \u001b[1;33m=\u001b[0m \u001b[0m_check_event_id\u001b[0m\u001b[1;33m(\u001b[0m\u001b[0mevent_id\u001b[0m\u001b[1;33m,\u001b[0m \u001b[0mevents\u001b[0m\u001b[1;33m)\u001b[0m\u001b[1;33m\u001b[0m\u001b[1;33m\u001b[0m\u001b[0m\n\u001b[0m\u001b[0;32m    387\u001b[0m         \u001b[0mself\u001b[0m\u001b[1;33m.\u001b[0m\u001b[0mevent_id\u001b[0m \u001b[1;33m=\u001b[0m \u001b[0mevent_id\u001b[0m\u001b[1;33m\u001b[0m\u001b[1;33m\u001b[0m\u001b[0m\n\u001b[0;32m    388\u001b[0m         \u001b[1;32mdel\u001b[0m \u001b[0mevent_id\u001b[0m\u001b[1;33m\u001b[0m\u001b[1;33m\u001b[0m\u001b[0m\n",
      "\u001b[1;32m~\\Anaconda3\\envs\\TF_env\\lib\\site-packages\\mne\\utils\\check.py\u001b[0m in \u001b[0;36m_check_event_id\u001b[1;34m(event_id, events)\u001b[0m\n\u001b[0;32m    120\u001b[0m     \u001b[1;31m# check out event_id dict\u001b[0m\u001b[1;33m\u001b[0m\u001b[1;33m\u001b[0m\u001b[1;33m\u001b[0m\u001b[0m\n\u001b[0;32m    121\u001b[0m     \u001b[1;32mif\u001b[0m \u001b[0mevent_id\u001b[0m \u001b[1;32mis\u001b[0m \u001b[1;32mNone\u001b[0m\u001b[1;33m:\u001b[0m  \u001b[1;31m# convert to int to make typing-checks happy\u001b[0m\u001b[1;33m\u001b[0m\u001b[1;33m\u001b[0m\u001b[0m\n\u001b[1;32m--> 122\u001b[1;33m         \u001b[0mevent_id\u001b[0m \u001b[1;33m=\u001b[0m \u001b[0mlist\u001b[0m\u001b[1;33m(\u001b[0m\u001b[0mnp\u001b[0m\u001b[1;33m.\u001b[0m\u001b[0munique\u001b[0m\u001b[1;33m(\u001b[0m\u001b[0mevents\u001b[0m\u001b[1;33m[\u001b[0m\u001b[1;33m:\u001b[0m\u001b[1;33m,\u001b[0m \u001b[1;36m2\u001b[0m\u001b[1;33m]\u001b[0m\u001b[1;33m)\u001b[0m\u001b[1;33m)\u001b[0m\u001b[1;33m\u001b[0m\u001b[1;33m\u001b[0m\u001b[0m\n\u001b[0m\u001b[0;32m    123\u001b[0m     \u001b[1;32mif\u001b[0m \u001b[0misinstance\u001b[0m\u001b[1;33m(\u001b[0m\u001b[0mevent_id\u001b[0m\u001b[1;33m,\u001b[0m \u001b[0mdict\u001b[0m\u001b[1;33m)\u001b[0m\u001b[1;33m:\u001b[0m\u001b[1;33m\u001b[0m\u001b[1;33m\u001b[0m\u001b[0m\n\u001b[0;32m    124\u001b[0m         \u001b[1;32mfor\u001b[0m \u001b[0mkey\u001b[0m \u001b[1;32min\u001b[0m \u001b[0mevent_id\u001b[0m\u001b[1;33m.\u001b[0m\u001b[0mkeys\u001b[0m\u001b[1;33m(\u001b[0m\u001b[1;33m)\u001b[0m\u001b[1;33m:\u001b[0m\u001b[1;33m\u001b[0m\u001b[1;33m\u001b[0m\u001b[0m\n",
      "\u001b[1;31mIndexError\u001b[0m: too many indices for array"
     ]
    }
   ],
   "source": [
    "filepath = 'experiments.csv'\n",
    "eegs = pd.read_csv(filepath)\n",
    "X_arr, y_arr = load_eeg_data(eegs)\n",
    "\n",
    "\n",
    "\n",
    "epochs = []\n",
    "\n",
    "\n",
    "for i in range(len(X_arr)):\n",
    "    \n",
    "    epochs.append(mne.Epochs(X_arr[i],y_arr[i], preload=True))\n",
    "    \n",
    "\n",
    "    \n",
    "\n",
    "X_train, X_test, y_train, y_test = train_test_split(X_arr, y_arr, test_size=0.2, random_state=1)\n",
    "X_train, X_val, y_train, y_val = train_test_split(X_train, y_train, test_size=0.2, random_state=1)\n"
   ]
  },
  {
   "cell_type": "code",
   "execution_count": 39,
   "metadata": {},
   "outputs": [
    {
     "ename": "AttributeError",
     "evalue": "'RawBrainVision' object has no attribute 'events'",
     "output_type": "error",
     "traceback": [
      "\u001b[1;31m---------------------------------------------------------------------------\u001b[0m",
      "\u001b[1;31mAttributeError\u001b[0m                            Traceback (most recent call last)",
      "\u001b[1;32m<ipython-input-39-4d917fe08172>\u001b[0m in \u001b[0;36m<module>\u001b[1;34m\u001b[0m\n\u001b[1;32m----> 1\u001b[1;33m \u001b[0mprint\u001b[0m\u001b[1;33m(\u001b[0m\u001b[0mX_arr\u001b[0m\u001b[1;33m[\u001b[0m\u001b[1;36m0\u001b[0m\u001b[1;33m]\u001b[0m\u001b[1;33m[\u001b[0m\u001b[1;36m0\u001b[0m\u001b[1;33m]\u001b[0m\u001b[1;33m.\u001b[0m\u001b[0mevents\u001b[0m\u001b[1;33m)\u001b[0m\u001b[1;33m\u001b[0m\u001b[1;33m\u001b[0m\u001b[0m\n\u001b[0m",
      "\u001b[1;31mAttributeError\u001b[0m: 'RawBrainVision' object has no attribute 'events'"
     ]
    }
   ],
   "source": [
    "\n"
   ]
  },
  {
   "cell_type": "code",
   "execution_count": null,
   "metadata": {},
   "outputs": [],
   "source": [
    "def create_model(X_train):\n",
    "\n",
    "    units=[256,256,256,256]\n",
    "    nunits = len(units)\n",
    "\n",
    "    model = tf.keras.Sequential()\n",
    "    model.add(layers.LSTM(input_shape=(4,273267),\n",
    "               units=units[0], return_sequences=True))\n",
    "\n",
    "    model.add(layers.BatchNormalization())\n",
    "    model.add(layers.Activation('relu'))\n",
    "    model.add(layers.Dropout(.25))\n",
    "\n",
    "\n",
    "    for unit in units[1:-1]:\n",
    "        model.add(layers.LSTM(units=unit,return_sequences=True))\n",
    "        model.add(layers.BatchNormalization())\n",
    "        model.add(layers.Activation('relu'))\n",
    "        model.add(layers.Dropout(.25))\n",
    "\n",
    "    model.add(layers.LSTM(units=units[-1],return_sequences=False))\n",
    "    model.add(layers.BatchNormalization())\n",
    "    model.add(layers.Activation('relu'))\n",
    "    model.add(layers.Dropout(.25))\n",
    "\n",
    "    model.add(layers.Dense(units=9))\n",
    "    model.add(layers.Activation(\"softmax\"))\n",
    "\n",
    "    model.compile(loss='binary_crossentropy',\n",
    "          optimizer=tf.keras.optimizers.Adam(0.01),\n",
    "          metrics=['accuracy'])\n",
    "\n",
    "\n",
    "\n",
    "    model.summary()\n",
    "\n",
    "    return model"
   ]
  },
  {
   "cell_type": "code",
   "execution_count": null,
   "metadata": {},
   "outputs": [],
   "source": [
    "def train_test_model(model, X_train, y_train, X_val, y_val, X_test, y_test):\n",
    "\n",
    "  \n",
    "    history = model.fit(X_train, y_train,\n",
    "    batch_size=2,\n",
    "    epochs=20,\n",
    "    validation_data=(X_val, y_val),\n",
    "    shuffle=True,\n",
    "    verbose=True,\n",
    "    )\n",
    "\n",
    "    plt.plot(history.history['acc'])\n",
    "    plt.plot(history.history['val_acc'])\n",
    "    plt.title('model accuracy')\n",
    "    plt.ylabel('accuracy')\n",
    "    plt.xlabel('epoch')\n",
    "    plt.legend(['train', 'val'], loc='upper left')\n",
    "    plt.show()\n",
    "\n",
    "    plt.semilogy(history.history['loss'])\n",
    "    plt.semilogy(history.history['val_loss'])\n",
    "    plt.title('model loss')\n",
    "    plt.ylabel('loss')\n",
    "    plt.xlabel('epoch')\n",
    "    plt.legend(['train', 'val'], loc='upper left')\n",
    "    plt.show()\n",
    "\n",
    "\n",
    "\n",
    "    score, acc = model.evaluate(X_test, y_test,\n",
    "                batch_size=2)\n",
    "    print('Test loss:', score)\n",
    "    print('Test accuracy:', acc)\n",
    "\n",
    "    data = {}\n",
    "    data['score'] = score\n",
    "    data['acc'] = acc\n",
    "\n",
    "    return model, data"
   ]
  },
  {
   "cell_type": "code",
   "execution_count": null,
   "metadata": {},
   "outputs": [],
   "source": [
    "model = create_model(X_arr)\n",
    "train_test_model(model,X_train, y_train, X_val, y_val, X_test, y_test)"
   ]
  },
  {
   "cell_type": "code",
   "execution_count": null,
   "metadata": {},
   "outputs": [],
   "source": []
  },
  {
   "cell_type": "code",
   "execution_count": null,
   "metadata": {},
   "outputs": [],
   "source": []
  },
  {
   "cell_type": "code",
   "execution_count": null,
   "metadata": {},
   "outputs": [],
   "source": []
  }
 ],
 "metadata": {
  "kernelspec": {
   "display_name": "Python 3",
   "language": "python",
   "name": "python3"
  },
  "language_info": {
   "codemirror_mode": {
    "name": "ipython",
    "version": 3
   },
   "file_extension": ".py",
   "mimetype": "text/x-python",
   "name": "python",
   "nbconvert_exporter": "python",
   "pygments_lexer": "ipython3",
   "version": "3.7.6"
  }
 },
 "nbformat": 4,
 "nbformat_minor": 2
}
